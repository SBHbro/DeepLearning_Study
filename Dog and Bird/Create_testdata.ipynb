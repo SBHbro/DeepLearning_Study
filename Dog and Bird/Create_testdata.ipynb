{
 "cells": [
  {
   "cell_type": "code",
   "execution_count": 2,
   "metadata": {},
   "outputs": [],
   "source": [
    "import cv2\n",
    "import numpy as np\n",
    "import os #list가져오기위함\n",
    "import glob\n",
    "\n",
    "np.set_printoptions(threshold=np.inf, linewidth=np.inf)#넘파이배열 생략기호 없애기\n",
    "\n",
    "\n",
    "path = \"*.jpg\"\n",
    "os.chdir(\"개\") #현재위치변경\n",
    "file_list = glob.glob(path)\n",
    "\n",
    "\n",
    "img_color = cv2.imread(file_list[320], cv2.IMREAD_COLOR)\n",
    "img_color = cv2.resize(img_color,dsize=(64,64), interpolation=cv2.INTER_AREA) # 64*64 이미지로 변경\n",
    "img_color = img_color.flatten()\n",
    "img_color = np.append(img_color,0)\n",
    "final_value = img_color\n",
    "\n",
    "for i in range(321,340):\n",
    "    img_color = cv2.imread(file_list[i], cv2.IMREAD_COLOR)\n",
    "    img_color = cv2.resize(img_color,dsize=(64,64), interpolation=cv2.INTER_AREA) # 64*64 이미지로 변경\n",
    "    img_color = img_color.flatten()\n",
    "    img_color = np.append(img_color,0)\n",
    "    final_value = np.vstack([final_value,img_color])\n",
    "    \n",
    "os.chdir(\"../새\")\n",
    "file_list = glob.glob(path)\n",
    "\n",
    "for i in range(130,150):\n",
    "    img_color = cv2.imread(file_list[i], cv2.IMREAD_COLOR)\n",
    "    img_color = cv2.resize(img_color,dsize=(64,64), interpolation=cv2.INTER_AREA) # 64*64 이미지로 변경\n",
    "    img_color = img_color.flatten()\n",
    "    img_color = np.append(img_color,1)\n",
    "    final_value = np.vstack([final_value,img_color])\n",
    "    \n",
    "final_value.shape\n",
    "\n",
    "os.chdir(\"..\")\n",
    "np.save('test_data.npy',final_value)"
   ]
  },
  {
   "cell_type": "code",
   "execution_count": null,
   "metadata": {},
   "outputs": [],
   "source": []
  }
 ],
 "metadata": {
  "kernelspec": {
   "display_name": "Python 3",
   "language": "python",
   "name": "python3"
  },
  "language_info": {
   "codemirror_mode": {
    "name": "ipython",
    "version": 3
   },
   "file_extension": ".py",
   "mimetype": "text/x-python",
   "name": "python",
   "nbconvert_exporter": "python",
   "pygments_lexer": "ipython3",
   "version": "3.6.8"
  }
 },
 "nbformat": 4,
 "nbformat_minor": 2
}
