{
 "cells": [
  {
   "cell_type": "code",
   "execution_count": 2,
   "metadata": {},
   "outputs": [
    {
     "name": "stdout",
     "output_type": "stream",
     "text": [
      "['dog (1).jpg', 'dog (10).jpg', 'dog (100).jpg', 'dog (101).jpg', 'dog (102).jpg', 'dog (103).jpg', 'dog (104).jpg', 'dog (105).jpg', 'dog (106).jpg', 'dog (107).jpg', 'dog (108).jpg', 'dog (109).jpg', 'dog (11).jpg', 'dog (110).jpg', 'dog (111).jpg', 'dog (112).jpg', 'dog (113).jpg', 'dog (114).jpg', 'dog (115).jpg', 'dog (116).jpg', 'dog (117).jpg', 'dog (118).jpg', 'dog (119).jpg', 'dog (12).jpg', 'dog (120).jpg', 'dog (121).jpg', 'dog (122).jpg', 'dog (123).jpg', 'dog (124).jpg', 'dog (125).jpg', 'dog (126).jpg', 'dog (127).jpg', 'dog (128).jpg', 'dog (129).jpg', 'dog (13).jpg', 'dog (130).jpg', 'dog (131).jpg', 'dog (132).jpg', 'dog (133).jpg', 'dog (134).jpg', 'dog (135).jpg', 'dog (136).jpg', 'dog (137).jpg', 'dog (138).jpg', 'dog (139).jpg', 'dog (14).jpg', 'dog (140).jpg', 'dog (141).jpg', 'dog (142).jpg', 'dog (143).jpg', 'dog (144).jpg', 'dog (145).jpg', 'dog (146).jpg', 'dog (147).jpg', 'dog (148).jpg', 'dog (149).jpg', 'dog (15).jpg', 'dog (150).jpg', 'dog (151).jpg', 'dog (152).jpg', 'dog (153).jpg', 'dog (154).jpg', 'dog (155).jpg', 'dog (156).jpg', 'dog (157).jpg', 'dog (158).jpg', 'dog (159).jpg', 'dog (16).jpg', 'dog (160).jpg', 'dog (161).jpg', 'dog (162).jpg', 'dog (163).jpg', 'dog (164).jpg', 'dog (165).jpg', 'dog (166).jpg', 'dog (167).jpg', 'dog (168).jpg', 'dog (169).jpg', 'dog (17).jpg', 'dog (170).jpg', 'dog (171).jpg', 'dog (172).jpg', 'dog (173).jpg', 'dog (174).jpg', 'dog (175).jpg', 'dog (176).jpg', 'dog (177).jpg', 'dog (178).jpg', 'dog (179).jpg', 'dog (18).jpg', 'dog (180).jpg', 'dog (181).jpg', 'dog (182).jpg', 'dog (183).jpg', 'dog (184).jpg', 'dog (185).jpg', 'dog (186).jpg', 'dog (187).jpg', 'dog (188).jpg', 'dog (189).jpg', 'dog (19).jpg', 'dog (190).jpg', 'dog (191).jpg', 'dog (192).jpg', 'dog (193).jpg', 'dog (194).jpg', 'dog (195).jpg', 'dog (196).jpg', 'dog (197).jpg', 'dog (198).jpg', 'dog (199).jpg', 'dog (2).jpg', 'dog (20).jpg', 'dog (200).jpg', 'dog (201).jpg', 'dog (202).jpg', 'dog (203).jpg', 'dog (204).jpg', 'dog (205).jpg', 'dog (206).jpg', 'dog (207).jpg', 'dog (208).jpg', 'dog (209).jpg', 'dog (21).jpg', 'dog (210).jpg', 'dog (211).jpg', 'dog (212).jpg', 'dog (213).jpg', 'dog (214).jpg', 'dog (215).jpg', 'dog (216).jpg', 'dog (217).jpg', 'dog (218).jpg', 'dog (219).jpg', 'dog (22).jpg', 'dog (220).jpg', 'dog (221).jpg', 'dog (222).jpg', 'dog (223).jpg', 'dog (224).jpg', 'dog (225).jpg', 'dog (226).jpg', 'dog (227).jpg', 'dog (228).jpg', 'dog (229).jpg', 'dog (23).jpg', 'dog (230).jpg', 'dog (231).jpg', 'dog (232).jpg', 'dog (233).jpg', 'dog (234).jpg', 'dog (235).jpg', 'dog (236).jpg', 'dog (237).jpg', 'dog (238).jpg', 'dog (239).jpg', 'dog (24).jpg', 'dog (240).jpg', 'dog (241).jpg', 'dog (242).jpg', 'dog (243).jpg', 'dog (244).jpg', 'dog (245).jpg', 'dog (246).jpg', 'dog (247).jpg', 'dog (248).jpg', 'dog (249).jpg', 'dog (25).jpg', 'dog (250).jpg', 'dog (251).jpg', 'dog (252).jpg', 'dog (253).jpg', 'dog (254).jpg', 'dog (255).jpg', 'dog (256).jpg', 'dog (257).jpg', 'dog (258).jpg', 'dog (259).jpg', 'dog (26).jpg', 'dog (260).jpg', 'dog (261).jpg', 'dog (262).jpg', 'dog (263).jpg', 'dog (264).jpg', 'dog (265).jpg', 'dog (266).jpg', 'dog (267).jpg', 'dog (268).jpg', 'dog (269).jpg', 'dog (27).jpg', 'dog (270).jpg', 'dog (271).jpg', 'dog (272).jpg', 'dog (273).jpg', 'dog (274).jpg', 'dog (275).jpg', 'dog (276).jpg', 'dog (277).jpg', 'dog (278).jpg', 'dog (279).jpg', 'dog (28).jpg', 'dog (280).jpg', 'dog (281).jpg', 'dog (282).jpg', 'dog (283).jpg', 'dog (284).jpg', 'dog (285).jpg', 'dog (286).jpg', 'dog (287).jpg', 'dog (288).jpg', 'dog (289).jpg', 'dog (29).jpg', 'dog (290).jpg', 'dog (291).jpg', 'dog (292).jpg', 'dog (293).jpg', 'dog (294).jpg', 'dog (295).jpg', 'dog (296).jpg', 'dog (297).jpg', 'dog (298).jpg', 'dog (299).jpg', 'dog (3).jpg', 'dog (30).jpg', 'dog (300).jpg', 'dog (301).jpg', 'dog (302).jpg', 'dog (303).jpg', 'dog (304).jpg', 'dog (305).jpg', 'dog (306).jpg', 'dog (307).jpg', 'dog (308).jpg', 'dog (309).jpg', 'dog (31).jpg', 'dog (310).jpg', 'dog (311).jpg', 'dog (312).jpg', 'dog (313).jpg', 'dog (314).jpg', 'dog (315).jpg', 'dog (316).jpg', 'dog (317).jpg', 'dog (318).jpg', 'dog (319).jpg', 'dog (32).jpg', 'dog (320).jpg', 'dog (321).jpg', 'dog (322).jpg', 'dog (323).jpg', 'dog (324).jpg', 'dog (325).jpg', 'dog (326).jpg', 'dog (327).jpg', 'dog (328).jpg', 'dog (329).jpg', 'dog (33).jpg', 'dog (330).jpg', 'dog (331).jpg', 'dog (332).jpg', 'dog (333).jpg', 'dog (334).jpg', 'dog (335).jpg', 'dog (336).jpg', 'dog (337).jpg', 'dog (338).jpg', 'dog (339).jpg', 'dog (34).jpg', 'dog (340).jpg', 'dog (341).jpg', 'dog (342).jpg', 'dog (343).jpg', 'dog (344).jpg', 'dog (345).jpg', 'dog (346).jpg', 'dog (347).jpg', 'dog (348).jpg', 'dog (349).jpg', 'dog (35).jpg', 'dog (350).jpg', 'dog (351).jpg', 'dog (352).jpg', 'dog (353).jpg', 'dog (354).jpg', 'dog (355).jpg', 'dog (356).jpg', 'dog (357).jpg', 'dog (358).jpg', 'dog (359).jpg', 'dog (36).jpg', 'dog (360).jpg', 'dog (361).jpg', 'dog (362).jpg', 'dog (363).jpg', 'dog (364).jpg', 'dog (365).jpg', 'dog (366).jpg', 'dog (367).jpg', 'dog (368).jpg', 'dog (369).jpg', 'dog (37).jpg', 'dog (38).jpg', 'dog (39).jpg', 'dog (4).jpg', 'dog (40).jpg', 'dog (41).jpg', 'dog (42).jpg', 'dog (43).jpg', 'dog (44).jpg', 'dog (45).jpg', 'dog (46).jpg', 'dog (47).jpg', 'dog (48).jpg', 'dog (49).jpg', 'dog (5).jpg', 'dog (50).jpg', 'dog (51).jpg', 'dog (52).jpg', 'dog (53).jpg', 'dog (54).jpg', 'dog (55).jpg', 'dog (56).jpg', 'dog (57).jpg', 'dog (58).jpg', 'dog (59).jpg', 'dog (6).jpg', 'dog (60).jpg', 'dog (61).jpg', 'dog (62).jpg', 'dog (63).jpg', 'dog (64).jpg', 'dog (65).jpg', 'dog (66).jpg', 'dog (67).jpg', 'dog (68).jpg', 'dog (69).jpg', 'dog (7).jpg', 'dog (70).jpg', 'dog (71).jpg', 'dog (72).jpg', 'dog (73).jpg', 'dog (74).jpg', 'dog (75).jpg', 'dog (76).jpg', 'dog (77).jpg', 'dog (78).jpg', 'dog (79).jpg', 'dog (8).jpg', 'dog (80).jpg', 'dog (81).jpg', 'dog (82).jpg', 'dog (83).jpg', 'dog (84).jpg', 'dog (85).jpg', 'dog (86).jpg', 'dog (87).jpg', 'dog (88).jpg', 'dog (89).jpg', 'dog (9).jpg', 'dog (90).jpg', 'dog (91).jpg', 'dog (92).jpg', 'dog (93).jpg', 'dog (94).jpg', 'dog (95).jpg', 'dog (96).jpg', 'dog (97).jpg', 'dog (98).jpg', 'dog (99).jpg']\n"
     ]
    }
   ],
   "source": [
    "import cv2\n",
    "import numpy as np\n",
    "import os #list가져오기위함\n",
    "import glob\n",
    "\n",
    "np.set_printoptions(threshold=np.inf, linewidth=np.inf)#넘파이배열 생략기호 없애기\n",
    "\n",
    "\n",
    "path = \"*.jpg\"\n",
    "os.chdir(\"개\") #현재위치변경\n",
    "file_list = glob.glob(path)\n",
    "\n",
    "for i in range(file_list):\n",
    "    print()\n",
    "\n",
    "img_color = cv2.imread(file_list[0], cv2.IMREAD_COLOR)\n",
    "img_color = cv2.resize(img_color,dsize=(64,64), interpolation=cv2.INTER_AREA) # 64*64 이미지로 변경\n",
    "img_color = img_color.flatten()\n",
    "img_color = np.append(img_color,0)\n",
    "final_value = img_color\n",
    "\n",
    "for i in range(1,200):\n",
    "    img_color = cv2.imread(file_list[i], cv2.IMREAD_COLOR)\n",
    "    img_color = cv2.resize(img_color,dsize=(64,64), interpolation=cv2.INTER_AREA) # 64*64 이미지로 변경\n",
    "    img_color = img_color.flatten()\n",
    "    img_color = np.append(img_color,0)\n",
    "    final_value = np.vstack([final_value,img_color])\n",
    "    \n",
    "os.chdir(\"../새\")\n",
    "file_list = glob.glob(path)\n",
    "# print(file_list)\n",
    "for i in range(0,130):\n",
    "    img_color = cv2.imread(file_list[i], cv2.IMREAD_COLOR)\n",
    "    img_color = cv2.resize(img_color,dsize=(64,64), interpolation=cv2.INTER_AREA) # 64*64 이미지로 변경\n",
    "    img_color = img_color.flatten()\n",
    "    img_color = np.append(img_color,1)\n",
    "    final_value = np.vstack([final_value,img_color])\n",
    "    \n",
    "final_value.shape\n",
    "\n",
    "os.chdir(\"..\")\n",
    "np.save('train_data.npy',final_value)"
   ]
  },
  {
   "cell_type": "code",
   "execution_count": null,
   "metadata": {},
   "outputs": [],
   "source": []
  },
  {
   "cell_type": "code",
   "execution_count": null,
   "metadata": {},
   "outputs": [],
   "source": []
  }
 ],
 "metadata": {
  "kernelspec": {
   "display_name": "Python 3",
   "language": "python",
   "name": "python3"
  },
  "language_info": {
   "codemirror_mode": {
    "name": "ipython",
    "version": 3
   },
   "file_extension": ".py",
   "mimetype": "text/x-python",
   "name": "python",
   "nbconvert_exporter": "python",
   "pygments_lexer": "ipython3",
   "version": "3.6.8"
  }
 },
 "nbformat": 4,
 "nbformat_minor": 2
}
