{
 "cells": [
  {
   "cell_type": "code",
   "execution_count": 8,
   "metadata": {},
   "outputs": [],
   "source": [
    "import cv2\n",
    "import numpy as np\n",
    "import os #list가져오기위함\n",
    "import glob\n",
    "\n",
    "np.set_printoptions(threshold=np.inf, linewidth=np.inf)#넘파이배열 생략기호 없애기\n",
    "\n",
    "\n",
    "path = \"*.jpg\"\n",
    "os.chdir(\"학습데이터\")\n",
    "os.chdir(\"개\") #현재위치변경\n",
    "file_list = glob.glob(path)\n",
    "\n",
    "img_color = cv2.imread(file_list[0], cv2.IMREAD_COLOR)\n",
    "img_color = cv2.resize(img_color,dsize=(64,64), interpolation=cv2.INTER_AREA) # 64*64 이미지로 변경\n",
    "img_color = img_color.flatten()\n",
    "img_color = np.append(img_color,0)\n",
    "final_value = img_color\n",
    "\n",
    "for i in range(1,210):\n",
    "    img_color = cv2.imread(file_list[i], cv2.IMREAD_COLOR)\n",
    "    img_color = cv2.resize(img_color,dsize=(64,64), interpolation=cv2.INTER_AREA) # 64*64 이미지로 변경\n",
    "    img_color = img_color.flatten()\n",
    "    img_color = np.append(img_color,0)\n",
    "    final_value = np.vstack([final_value,img_color])\n",
    "    \n",
    "os.chdir(\"../새\")\n",
    "file_list = glob.glob(path)\n",
    "# print(file_list)\n",
    "for i in range(0,54):\n",
    "    img_color = cv2.imread(file_list[i], cv2.IMREAD_COLOR)\n",
    "    img_color = cv2.resize(img_color,dsize=(64,64), interpolation=cv2.INTER_AREA) # 64*64 이미지로 변경\n",
    "    img_color = img_color.flatten()\n",
    "    img_color = np.append(img_color,1)\n",
    "    final_value = np.vstack([final_value,img_color])\n",
    "    \n",
    "final_value.shape\n",
    "\n",
    "os.chdir(\"..\")\n",
    "os.chdir(\"..\")\n",
    "np.save('train_data.npy',final_value)"
   ]
  },
  {
   "cell_type": "code",
   "execution_count": 9,
   "metadata": {},
   "outputs": [
    {
     "data": {
      "text/plain": [
       "['birds (10).jpg',\n",
       " 'birds (11).jpg',\n",
       " 'birds (13).jpg',\n",
       " 'birds (18).jpg',\n",
       " 'birds (26).jpg',\n",
       " 'birds (27).jpg',\n",
       " 'birds (29).jpg',\n",
       " 'birds (30).jpg',\n",
       " 'birds (31).jpg',\n",
       " 'birds (32).jpg',\n",
       " 'birds (33).jpg',\n",
       " 'birds (34).jpg',\n",
       " 'birds (35).jpg',\n",
       " 'birds (36).jpg',\n",
       " 'birds (38).jpg',\n",
       " 'birds (40).jpg',\n",
       " 'birds (44).jpg',\n",
       " 'birds (45).jpg',\n",
       " 'birds (46).jpg',\n",
       " 'birds (47).jpg',\n",
       " 'birds (49).jpg',\n",
       " 'birds (50).jpg',\n",
       " 'birds (51).jpg',\n",
       " 'birds (52).jpg',\n",
       " 'birds (53).jpg',\n",
       " 'birds (54).jpg',\n",
       " 'birds (55).jpg',\n",
       " 'birds (56).jpg',\n",
       " 'birds (57).jpg',\n",
       " 'birds (58).jpg',\n",
       " 'birds (60).jpg',\n",
       " 'birds (61).jpg',\n",
       " 'birds (7).jpg',\n",
       " 'birds (70).jpg',\n",
       " 'birds (71).jpg',\n",
       " 'birds (72).jpg',\n",
       " 'birds (73).jpg',\n",
       " 'birds (74).jpg',\n",
       " 'birds (75).jpg',\n",
       " 'birds (76).jpg',\n",
       " 'birds (77).jpg',\n",
       " 'birds (78).jpg',\n",
       " 'birds (79).jpg',\n",
       " 'birds (80).jpg',\n",
       " 'birds (82).jpg',\n",
       " 'birds (83).jpg',\n",
       " 'birds (85).jpg',\n",
       " 'birds (87).jpg',\n",
       " 'birds (91).jpg',\n",
       " 'birds (92).jpg',\n",
       " 'birds (93).jpg',\n",
       " 'birds (95).jpg',\n",
       " 'birds (96).jpg',\n",
       " 'birds (97).jpg']"
      ]
     },
     "execution_count": 9,
     "metadata": {},
     "output_type": "execute_result"
    }
   ],
   "source": [
    "file_list"
   ]
  },
  {
   "cell_type": "code",
   "execution_count": null,
   "metadata": {},
   "outputs": [],
   "source": []
  }
 ],
 "metadata": {
  "kernelspec": {
   "display_name": "Python 3",
   "language": "python",
   "name": "python3"
  },
  "language_info": {
   "codemirror_mode": {
    "name": "ipython",
    "version": 3
   },
   "file_extension": ".py",
   "mimetype": "text/x-python",
   "name": "python",
   "nbconvert_exporter": "python",
   "pygments_lexer": "ipython3",
   "version": "3.6.8"
  }
 },
 "nbformat": 4,
 "nbformat_minor": 2
}
