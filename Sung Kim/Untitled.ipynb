{
 "cells": [
  {
   "cell_type": "code",
   "execution_count": 1,
   "metadata": {},
   "outputs": [
    {
     "data": {
      "text/plain": [
       "'1.14.0'"
      ]
     },
     "execution_count": 1,
     "metadata": {},
     "output_type": "execute_result"
    }
   ],
   "source": [
    "import tensorflow as tf\n",
    "\n",
    "tf.__version__"
   ]
  },
  {
   "cell_type": "code",
   "execution_count": 2,
   "metadata": {},
   "outputs": [
    {
     "ename": "SyntaxError",
     "evalue": "EOL while scanning string literal (<ipython-input-2-922bf293f21a>, line 1)",
     "output_type": "error",
     "traceback": [
      "\u001b[1;36m  File \u001b[1;32m\"<ipython-input-2-922bf293f21a>\"\u001b[1;36m, line \u001b[1;32m1\u001b[0m\n\u001b[1;33m    hello = tf.constant(\"Hello, TensorFlow!\"\")\u001b[0m\n\u001b[1;37m                                              ^\u001b[0m\n\u001b[1;31mSyntaxError\u001b[0m\u001b[1;31m:\u001b[0m EOL while scanning string literal\n"
     ]
    }
   ],
   "source": [
    "hello = tf.constant(\"Hello, TensorFlow!\"\")"
   ]
  },
  {
   "cell_type": "code",
   "execution_count": 3,
   "metadata": {},
   "outputs": [],
   "source": [
    "hello = tf.constant(\"Hello, TensorFlow!\")"
   ]
  },
  {
   "cell_type": "code",
   "execution_count": 4,
   "metadata": {},
   "outputs": [],
   "source": [
    "sess = tf.Session()"
   ]
  },
  {
   "cell_type": "code",
   "execution_count": 5,
   "metadata": {},
   "outputs": [
    {
     "name": "stdout",
     "output_type": "stream",
     "text": [
      "b'Hello, TensorFlow!'\n"
     ]
    }
   ],
   "source": [
    "print(sess.run(hello))"
   ]
  },
  {
   "cell_type": "code",
   "execution_count": 6,
   "metadata": {},
   "outputs": [
    {
     "data": {
      "text/plain": [
       "7.0"
      ]
     },
     "execution_count": 6,
     "metadata": {},
     "output_type": "execute_result"
    }
   ],
   "source": [
    "node1 = tf.constant(3.0)\n",
    "node2 = tf.constant(4.0)\n",
    "node3 = tf.add(node1,node2)\n",
    "\n",
    "see = tf.Session()\n",
    "see.run(node3)"
   ]
  },
  {
   "cell_type": "code",
   "execution_count": 7,
   "metadata": {},
   "outputs": [
    {
     "data": {
      "text/plain": [
       "<tf.Tensor 'Add:0' shape=() dtype=float32>"
      ]
     },
     "execution_count": 7,
     "metadata": {},
     "output_type": "execute_result"
    }
   ],
   "source": [
    "node3"
   ]
  },
  {
   "cell_type": "code",
   "execution_count": 8,
   "metadata": {},
   "outputs": [
    {
     "ename": "InvalidArgumentError",
     "evalue": "2 root error(s) found.\n  (0) Invalid argument: You must feed a value for placeholder tensor 'Placeholder_1' with dtype float\n\t [[node Placeholder_1 (defined at <ipython-input-8-c9d48131fce3>:2) ]]\n\t [[add_1/_3]]\n  (1) Invalid argument: You must feed a value for placeholder tensor 'Placeholder_1' with dtype float\n\t [[node Placeholder_1 (defined at <ipython-input-8-c9d48131fce3>:2) ]]\n0 successful operations.\n0 derived errors ignored.\n\nOriginal stack trace for 'Placeholder_1':\n  File \"D:\\ProgramData\\Anaconda3\\lib\\runpy.py\", line 193, in _run_module_as_main\n    \"__main__\", mod_spec)\n  File \"D:\\ProgramData\\Anaconda3\\lib\\runpy.py\", line 85, in _run_code\n    exec(code, run_globals)\n  File \"D:\\ProgramData\\Anaconda3\\lib\\site-packages\\ipykernel_launcher.py\", line 16, in <module>\n    app.launch_new_instance()\n  File \"D:\\ProgramData\\Anaconda3\\lib\\site-packages\\traitlets\\config\\application.py\", line 658, in launch_instance\n    app.start()\n  File \"D:\\ProgramData\\Anaconda3\\lib\\site-packages\\ipykernel\\kernelapp.py\", line 505, in start\n    self.io_loop.start()\n  File \"D:\\ProgramData\\Anaconda3\\lib\\site-packages\\tornado\\platform\\asyncio.py\", line 148, in start\n    self.asyncio_loop.run_forever()\n  File \"D:\\ProgramData\\Anaconda3\\lib\\asyncio\\base_events.py\", line 539, in run_forever\n    self._run_once()\n  File \"D:\\ProgramData\\Anaconda3\\lib\\asyncio\\base_events.py\", line 1775, in _run_once\n    handle._run()\n  File \"D:\\ProgramData\\Anaconda3\\lib\\asyncio\\events.py\", line 88, in _run\n    self._context.run(self._callback, *self._args)\n  File \"D:\\ProgramData\\Anaconda3\\lib\\site-packages\\tornado\\ioloop.py\", line 690, in <lambda>\n    lambda f: self._run_callback(functools.partial(callback, future))\n  File \"D:\\ProgramData\\Anaconda3\\lib\\site-packages\\tornado\\ioloop.py\", line 743, in _run_callback\n    ret = callback()\n  File \"D:\\ProgramData\\Anaconda3\\lib\\site-packages\\tornado\\gen.py\", line 781, in inner\n    self.run()\n  File \"D:\\ProgramData\\Anaconda3\\lib\\site-packages\\tornado\\gen.py\", line 742, in run\n    yielded = self.gen.send(value)\n  File \"D:\\ProgramData\\Anaconda3\\lib\\site-packages\\ipykernel\\kernelbase.py\", line 357, in process_one\n    yield gen.maybe_future(dispatch(*args))\n  File \"D:\\ProgramData\\Anaconda3\\lib\\site-packages\\tornado\\gen.py\", line 209, in wrapper\n    yielded = next(result)\n  File \"D:\\ProgramData\\Anaconda3\\lib\\site-packages\\ipykernel\\kernelbase.py\", line 267, in dispatch_shell\n    yield gen.maybe_future(handler(stream, idents, msg))\n  File \"D:\\ProgramData\\Anaconda3\\lib\\site-packages\\tornado\\gen.py\", line 209, in wrapper\n    yielded = next(result)\n  File \"D:\\ProgramData\\Anaconda3\\lib\\site-packages\\ipykernel\\kernelbase.py\", line 534, in execute_request\n    user_expressions, allow_stdin,\n  File \"D:\\ProgramData\\Anaconda3\\lib\\site-packages\\tornado\\gen.py\", line 209, in wrapper\n    yielded = next(result)\n  File \"D:\\ProgramData\\Anaconda3\\lib\\site-packages\\ipykernel\\ipkernel.py\", line 294, in do_execute\n    res = shell.run_cell(code, store_history=store_history, silent=silent)\n  File \"D:\\ProgramData\\Anaconda3\\lib\\site-packages\\ipykernel\\zmqshell.py\", line 536, in run_cell\n    return super(ZMQInteractiveShell, self).run_cell(*args, **kwargs)\n  File \"D:\\ProgramData\\Anaconda3\\lib\\site-packages\\IPython\\core\\interactiveshell.py\", line 2848, in run_cell\n    raw_cell, store_history, silent, shell_futures)\n  File \"D:\\ProgramData\\Anaconda3\\lib\\site-packages\\IPython\\core\\interactiveshell.py\", line 2874, in _run_cell\n    return runner(coro)\n  File \"D:\\ProgramData\\Anaconda3\\lib\\site-packages\\IPython\\core\\async_helpers.py\", line 67, in _pseudo_sync_runner\n    coro.send(None)\n  File \"D:\\ProgramData\\Anaconda3\\lib\\site-packages\\IPython\\core\\interactiveshell.py\", line 3049, in run_cell_async\n    interactivity=interactivity, compiler=compiler, result=result)\n  File \"D:\\ProgramData\\Anaconda3\\lib\\site-packages\\IPython\\core\\interactiveshell.py\", line 3214, in run_ast_nodes\n    if (yield from self.run_code(code, result)):\n  File \"D:\\ProgramData\\Anaconda3\\lib\\site-packages\\IPython\\core\\interactiveshell.py\", line 3296, in run_code\n    exec(code_obj, self.user_global_ns, self.user_ns)\n  File \"<ipython-input-8-c9d48131fce3>\", line 2, in <module>\n    b = tf.placeholder(tf.float32)\n  File \"D:\\ProgramData\\Anaconda3\\lib\\site-packages\\tensorflow\\python\\ops\\array_ops.py\", line 2143, in placeholder\n    return gen_array_ops.placeholder(dtype=dtype, shape=shape, name=name)\n  File \"D:\\ProgramData\\Anaconda3\\lib\\site-packages\\tensorflow\\python\\ops\\gen_array_ops.py\", line 7401, in placeholder\n    \"Placeholder\", dtype=dtype, shape=shape, name=name)\n  File \"D:\\ProgramData\\Anaconda3\\lib\\site-packages\\tensorflow\\python\\framework\\op_def_library.py\", line 788, in _apply_op_helper\n    op_def=op_def)\n  File \"D:\\ProgramData\\Anaconda3\\lib\\site-packages\\tensorflow\\python\\util\\deprecation.py\", line 507, in new_func\n    return func(*args, **kwargs)\n  File \"D:\\ProgramData\\Anaconda3\\lib\\site-packages\\tensorflow\\python\\framework\\ops.py\", line 3616, in create_op\n    op_def=op_def)\n  File \"D:\\ProgramData\\Anaconda3\\lib\\site-packages\\tensorflow\\python\\framework\\ops.py\", line 2005, in __init__\n    self._traceback = tf_stack.extract_stack()\n",
     "output_type": "error",
     "traceback": [
      "\u001b[1;31m---------------------------------------------------------------------------\u001b[0m",
      "\u001b[1;31mInvalidArgumentError\u001b[0m                      Traceback (most recent call last)",
      "\u001b[1;32mD:\\ProgramData\\Anaconda3\\lib\\site-packages\\tensorflow\\python\\client\\session.py\u001b[0m in \u001b[0;36m_do_call\u001b[1;34m(self, fn, *args)\u001b[0m\n\u001b[0;32m   1355\u001b[0m     \u001b[1;32mtry\u001b[0m\u001b[1;33m:\u001b[0m\u001b[1;33m\u001b[0m\u001b[1;33m\u001b[0m\u001b[0m\n\u001b[1;32m-> 1356\u001b[1;33m       \u001b[1;32mreturn\u001b[0m \u001b[0mfn\u001b[0m\u001b[1;33m(\u001b[0m\u001b[1;33m*\u001b[0m\u001b[0margs\u001b[0m\u001b[1;33m)\u001b[0m\u001b[1;33m\u001b[0m\u001b[1;33m\u001b[0m\u001b[0m\n\u001b[0m\u001b[0;32m   1357\u001b[0m     \u001b[1;32mexcept\u001b[0m \u001b[0merrors\u001b[0m\u001b[1;33m.\u001b[0m\u001b[0mOpError\u001b[0m \u001b[1;32mas\u001b[0m \u001b[0me\u001b[0m\u001b[1;33m:\u001b[0m\u001b[1;33m\u001b[0m\u001b[1;33m\u001b[0m\u001b[0m\n",
      "\u001b[1;32mD:\\ProgramData\\Anaconda3\\lib\\site-packages\\tensorflow\\python\\client\\session.py\u001b[0m in \u001b[0;36m_run_fn\u001b[1;34m(feed_dict, fetch_list, target_list, options, run_metadata)\u001b[0m\n\u001b[0;32m   1340\u001b[0m       return self._call_tf_sessionrun(\n\u001b[1;32m-> 1341\u001b[1;33m           options, feed_dict, fetch_list, target_list, run_metadata)\n\u001b[0m\u001b[0;32m   1342\u001b[0m \u001b[1;33m\u001b[0m\u001b[0m\n",
      "\u001b[1;32mD:\\ProgramData\\Anaconda3\\lib\\site-packages\\tensorflow\\python\\client\\session.py\u001b[0m in \u001b[0;36m_call_tf_sessionrun\u001b[1;34m(self, options, feed_dict, fetch_list, target_list, run_metadata)\u001b[0m\n\u001b[0;32m   1428\u001b[0m         \u001b[0mself\u001b[0m\u001b[1;33m.\u001b[0m\u001b[0m_session\u001b[0m\u001b[1;33m,\u001b[0m \u001b[0moptions\u001b[0m\u001b[1;33m,\u001b[0m \u001b[0mfeed_dict\u001b[0m\u001b[1;33m,\u001b[0m \u001b[0mfetch_list\u001b[0m\u001b[1;33m,\u001b[0m \u001b[0mtarget_list\u001b[0m\u001b[1;33m,\u001b[0m\u001b[1;33m\u001b[0m\u001b[1;33m\u001b[0m\u001b[0m\n\u001b[1;32m-> 1429\u001b[1;33m         run_metadata)\n\u001b[0m\u001b[0;32m   1430\u001b[0m \u001b[1;33m\u001b[0m\u001b[0m\n",
      "\u001b[1;31mInvalidArgumentError\u001b[0m: 2 root error(s) found.\n  (0) Invalid argument: You must feed a value for placeholder tensor 'Placeholder_1' with dtype float\n\t [[{{node Placeholder_1}}]]\n\t [[add_1/_3]]\n  (1) Invalid argument: You must feed a value for placeholder tensor 'Placeholder_1' with dtype float\n\t [[{{node Placeholder_1}}]]\n0 successful operations.\n0 derived errors ignored.",
      "\nDuring handling of the above exception, another exception occurred:\n",
      "\u001b[1;31mInvalidArgumentError\u001b[0m                      Traceback (most recent call last)",
      "\u001b[1;32m<ipython-input-8-c9d48131fce3>\u001b[0m in \u001b[0;36m<module>\u001b[1;34m\u001b[0m\n\u001b[0;32m      3\u001b[0m \u001b[0madder_node\u001b[0m \u001b[1;33m=\u001b[0m \u001b[0ma\u001b[0m \u001b[1;33m+\u001b[0m \u001b[0mb\u001b[0m\u001b[1;33m\u001b[0m\u001b[1;33m\u001b[0m\u001b[0m\n\u001b[0;32m      4\u001b[0m \u001b[1;33m\u001b[0m\u001b[0m\n\u001b[1;32m----> 5\u001b[1;33m \u001b[0msee\u001b[0m\u001b[1;33m.\u001b[0m\u001b[0mrun\u001b[0m\u001b[1;33m(\u001b[0m\u001b[0madder_node\u001b[0m\u001b[1;33m)\u001b[0m\u001b[1;33m\u001b[0m\u001b[1;33m\u001b[0m\u001b[0m\n\u001b[0m",
      "\u001b[1;32mD:\\ProgramData\\Anaconda3\\lib\\site-packages\\tensorflow\\python\\client\\session.py\u001b[0m in \u001b[0;36mrun\u001b[1;34m(self, fetches, feed_dict, options, run_metadata)\u001b[0m\n\u001b[0;32m    948\u001b[0m     \u001b[1;32mtry\u001b[0m\u001b[1;33m:\u001b[0m\u001b[1;33m\u001b[0m\u001b[1;33m\u001b[0m\u001b[0m\n\u001b[0;32m    949\u001b[0m       result = self._run(None, fetches, feed_dict, options_ptr,\n\u001b[1;32m--> 950\u001b[1;33m                          run_metadata_ptr)\n\u001b[0m\u001b[0;32m    951\u001b[0m       \u001b[1;32mif\u001b[0m \u001b[0mrun_metadata\u001b[0m\u001b[1;33m:\u001b[0m\u001b[1;33m\u001b[0m\u001b[1;33m\u001b[0m\u001b[0m\n\u001b[0;32m    952\u001b[0m         \u001b[0mproto_data\u001b[0m \u001b[1;33m=\u001b[0m \u001b[0mtf_session\u001b[0m\u001b[1;33m.\u001b[0m\u001b[0mTF_GetBuffer\u001b[0m\u001b[1;33m(\u001b[0m\u001b[0mrun_metadata_ptr\u001b[0m\u001b[1;33m)\u001b[0m\u001b[1;33m\u001b[0m\u001b[1;33m\u001b[0m\u001b[0m\n",
      "\u001b[1;32mD:\\ProgramData\\Anaconda3\\lib\\site-packages\\tensorflow\\python\\client\\session.py\u001b[0m in \u001b[0;36m_run\u001b[1;34m(self, handle, fetches, feed_dict, options, run_metadata)\u001b[0m\n\u001b[0;32m   1171\u001b[0m     \u001b[1;32mif\u001b[0m \u001b[0mfinal_fetches\u001b[0m \u001b[1;32mor\u001b[0m \u001b[0mfinal_targets\u001b[0m \u001b[1;32mor\u001b[0m \u001b[1;33m(\u001b[0m\u001b[0mhandle\u001b[0m \u001b[1;32mand\u001b[0m \u001b[0mfeed_dict_tensor\u001b[0m\u001b[1;33m)\u001b[0m\u001b[1;33m:\u001b[0m\u001b[1;33m\u001b[0m\u001b[1;33m\u001b[0m\u001b[0m\n\u001b[0;32m   1172\u001b[0m       results = self._do_run(handle, final_targets, final_fetches,\n\u001b[1;32m-> 1173\u001b[1;33m                              feed_dict_tensor, options, run_metadata)\n\u001b[0m\u001b[0;32m   1174\u001b[0m     \u001b[1;32melse\u001b[0m\u001b[1;33m:\u001b[0m\u001b[1;33m\u001b[0m\u001b[1;33m\u001b[0m\u001b[0m\n\u001b[0;32m   1175\u001b[0m       \u001b[0mresults\u001b[0m \u001b[1;33m=\u001b[0m \u001b[1;33m[\u001b[0m\u001b[1;33m]\u001b[0m\u001b[1;33m\u001b[0m\u001b[1;33m\u001b[0m\u001b[0m\n",
      "\u001b[1;32mD:\\ProgramData\\Anaconda3\\lib\\site-packages\\tensorflow\\python\\client\\session.py\u001b[0m in \u001b[0;36m_do_run\u001b[1;34m(self, handle, target_list, fetch_list, feed_dict, options, run_metadata)\u001b[0m\n\u001b[0;32m   1348\u001b[0m     \u001b[1;32mif\u001b[0m \u001b[0mhandle\u001b[0m \u001b[1;32mis\u001b[0m \u001b[1;32mNone\u001b[0m\u001b[1;33m:\u001b[0m\u001b[1;33m\u001b[0m\u001b[1;33m\u001b[0m\u001b[0m\n\u001b[0;32m   1349\u001b[0m       return self._do_call(_run_fn, feeds, fetches, targets, options,\n\u001b[1;32m-> 1350\u001b[1;33m                            run_metadata)\n\u001b[0m\u001b[0;32m   1351\u001b[0m     \u001b[1;32melse\u001b[0m\u001b[1;33m:\u001b[0m\u001b[1;33m\u001b[0m\u001b[1;33m\u001b[0m\u001b[0m\n\u001b[0;32m   1352\u001b[0m       \u001b[1;32mreturn\u001b[0m \u001b[0mself\u001b[0m\u001b[1;33m.\u001b[0m\u001b[0m_do_call\u001b[0m\u001b[1;33m(\u001b[0m\u001b[0m_prun_fn\u001b[0m\u001b[1;33m,\u001b[0m \u001b[0mhandle\u001b[0m\u001b[1;33m,\u001b[0m \u001b[0mfeeds\u001b[0m\u001b[1;33m,\u001b[0m \u001b[0mfetches\u001b[0m\u001b[1;33m)\u001b[0m\u001b[1;33m\u001b[0m\u001b[1;33m\u001b[0m\u001b[0m\n",
      "\u001b[1;32mD:\\ProgramData\\Anaconda3\\lib\\site-packages\\tensorflow\\python\\client\\session.py\u001b[0m in \u001b[0;36m_do_call\u001b[1;34m(self, fn, *args)\u001b[0m\n\u001b[0;32m   1368\u001b[0m           \u001b[1;32mpass\u001b[0m\u001b[1;33m\u001b[0m\u001b[1;33m\u001b[0m\u001b[0m\n\u001b[0;32m   1369\u001b[0m       \u001b[0mmessage\u001b[0m \u001b[1;33m=\u001b[0m \u001b[0merror_interpolation\u001b[0m\u001b[1;33m.\u001b[0m\u001b[0minterpolate\u001b[0m\u001b[1;33m(\u001b[0m\u001b[0mmessage\u001b[0m\u001b[1;33m,\u001b[0m \u001b[0mself\u001b[0m\u001b[1;33m.\u001b[0m\u001b[0m_graph\u001b[0m\u001b[1;33m)\u001b[0m\u001b[1;33m\u001b[0m\u001b[1;33m\u001b[0m\u001b[0m\n\u001b[1;32m-> 1370\u001b[1;33m       \u001b[1;32mraise\u001b[0m \u001b[0mtype\u001b[0m\u001b[1;33m(\u001b[0m\u001b[0me\u001b[0m\u001b[1;33m)\u001b[0m\u001b[1;33m(\u001b[0m\u001b[0mnode_def\u001b[0m\u001b[1;33m,\u001b[0m \u001b[0mop\u001b[0m\u001b[1;33m,\u001b[0m \u001b[0mmessage\u001b[0m\u001b[1;33m)\u001b[0m\u001b[1;33m\u001b[0m\u001b[1;33m\u001b[0m\u001b[0m\n\u001b[0m\u001b[0;32m   1371\u001b[0m \u001b[1;33m\u001b[0m\u001b[0m\n\u001b[0;32m   1372\u001b[0m   \u001b[1;32mdef\u001b[0m \u001b[0m_extend_graph\u001b[0m\u001b[1;33m(\u001b[0m\u001b[0mself\u001b[0m\u001b[1;33m)\u001b[0m\u001b[1;33m:\u001b[0m\u001b[1;33m\u001b[0m\u001b[1;33m\u001b[0m\u001b[0m\n",
      "\u001b[1;31mInvalidArgumentError\u001b[0m: 2 root error(s) found.\n  (0) Invalid argument: You must feed a value for placeholder tensor 'Placeholder_1' with dtype float\n\t [[node Placeholder_1 (defined at <ipython-input-8-c9d48131fce3>:2) ]]\n\t [[add_1/_3]]\n  (1) Invalid argument: You must feed a value for placeholder tensor 'Placeholder_1' with dtype float\n\t [[node Placeholder_1 (defined at <ipython-input-8-c9d48131fce3>:2) ]]\n0 successful operations.\n0 derived errors ignored.\n\nOriginal stack trace for 'Placeholder_1':\n  File \"D:\\ProgramData\\Anaconda3\\lib\\runpy.py\", line 193, in _run_module_as_main\n    \"__main__\", mod_spec)\n  File \"D:\\ProgramData\\Anaconda3\\lib\\runpy.py\", line 85, in _run_code\n    exec(code, run_globals)\n  File \"D:\\ProgramData\\Anaconda3\\lib\\site-packages\\ipykernel_launcher.py\", line 16, in <module>\n    app.launch_new_instance()\n  File \"D:\\ProgramData\\Anaconda3\\lib\\site-packages\\traitlets\\config\\application.py\", line 658, in launch_instance\n    app.start()\n  File \"D:\\ProgramData\\Anaconda3\\lib\\site-packages\\ipykernel\\kernelapp.py\", line 505, in start\n    self.io_loop.start()\n  File \"D:\\ProgramData\\Anaconda3\\lib\\site-packages\\tornado\\platform\\asyncio.py\", line 148, in start\n    self.asyncio_loop.run_forever()\n  File \"D:\\ProgramData\\Anaconda3\\lib\\asyncio\\base_events.py\", line 539, in run_forever\n    self._run_once()\n  File \"D:\\ProgramData\\Anaconda3\\lib\\asyncio\\base_events.py\", line 1775, in _run_once\n    handle._run()\n  File \"D:\\ProgramData\\Anaconda3\\lib\\asyncio\\events.py\", line 88, in _run\n    self._context.run(self._callback, *self._args)\n  File \"D:\\ProgramData\\Anaconda3\\lib\\site-packages\\tornado\\ioloop.py\", line 690, in <lambda>\n    lambda f: self._run_callback(functools.partial(callback, future))\n  File \"D:\\ProgramData\\Anaconda3\\lib\\site-packages\\tornado\\ioloop.py\", line 743, in _run_callback\n    ret = callback()\n  File \"D:\\ProgramData\\Anaconda3\\lib\\site-packages\\tornado\\gen.py\", line 781, in inner\n    self.run()\n  File \"D:\\ProgramData\\Anaconda3\\lib\\site-packages\\tornado\\gen.py\", line 742, in run\n    yielded = self.gen.send(value)\n  File \"D:\\ProgramData\\Anaconda3\\lib\\site-packages\\ipykernel\\kernelbase.py\", line 357, in process_one\n    yield gen.maybe_future(dispatch(*args))\n  File \"D:\\ProgramData\\Anaconda3\\lib\\site-packages\\tornado\\gen.py\", line 209, in wrapper\n    yielded = next(result)\n  File \"D:\\ProgramData\\Anaconda3\\lib\\site-packages\\ipykernel\\kernelbase.py\", line 267, in dispatch_shell\n    yield gen.maybe_future(handler(stream, idents, msg))\n  File \"D:\\ProgramData\\Anaconda3\\lib\\site-packages\\tornado\\gen.py\", line 209, in wrapper\n    yielded = next(result)\n  File \"D:\\ProgramData\\Anaconda3\\lib\\site-packages\\ipykernel\\kernelbase.py\", line 534, in execute_request\n    user_expressions, allow_stdin,\n  File \"D:\\ProgramData\\Anaconda3\\lib\\site-packages\\tornado\\gen.py\", line 209, in wrapper\n    yielded = next(result)\n  File \"D:\\ProgramData\\Anaconda3\\lib\\site-packages\\ipykernel\\ipkernel.py\", line 294, in do_execute\n    res = shell.run_cell(code, store_history=store_history, silent=silent)\n  File \"D:\\ProgramData\\Anaconda3\\lib\\site-packages\\ipykernel\\zmqshell.py\", line 536, in run_cell\n    return super(ZMQInteractiveShell, self).run_cell(*args, **kwargs)\n  File \"D:\\ProgramData\\Anaconda3\\lib\\site-packages\\IPython\\core\\interactiveshell.py\", line 2848, in run_cell\n    raw_cell, store_history, silent, shell_futures)\n  File \"D:\\ProgramData\\Anaconda3\\lib\\site-packages\\IPython\\core\\interactiveshell.py\", line 2874, in _run_cell\n    return runner(coro)\n  File \"D:\\ProgramData\\Anaconda3\\lib\\site-packages\\IPython\\core\\async_helpers.py\", line 67, in _pseudo_sync_runner\n    coro.send(None)\n  File \"D:\\ProgramData\\Anaconda3\\lib\\site-packages\\IPython\\core\\interactiveshell.py\", line 3049, in run_cell_async\n    interactivity=interactivity, compiler=compiler, result=result)\n  File \"D:\\ProgramData\\Anaconda3\\lib\\site-packages\\IPython\\core\\interactiveshell.py\", line 3214, in run_ast_nodes\n    if (yield from self.run_code(code, result)):\n  File \"D:\\ProgramData\\Anaconda3\\lib\\site-packages\\IPython\\core\\interactiveshell.py\", line 3296, in run_code\n    exec(code_obj, self.user_global_ns, self.user_ns)\n  File \"<ipython-input-8-c9d48131fce3>\", line 2, in <module>\n    b = tf.placeholder(tf.float32)\n  File \"D:\\ProgramData\\Anaconda3\\lib\\site-packages\\tensorflow\\python\\ops\\array_ops.py\", line 2143, in placeholder\n    return gen_array_ops.placeholder(dtype=dtype, shape=shape, name=name)\n  File \"D:\\ProgramData\\Anaconda3\\lib\\site-packages\\tensorflow\\python\\ops\\gen_array_ops.py\", line 7401, in placeholder\n    \"Placeholder\", dtype=dtype, shape=shape, name=name)\n  File \"D:\\ProgramData\\Anaconda3\\lib\\site-packages\\tensorflow\\python\\framework\\op_def_library.py\", line 788, in _apply_op_helper\n    op_def=op_def)\n  File \"D:\\ProgramData\\Anaconda3\\lib\\site-packages\\tensorflow\\python\\util\\deprecation.py\", line 507, in new_func\n    return func(*args, **kwargs)\n  File \"D:\\ProgramData\\Anaconda3\\lib\\site-packages\\tensorflow\\python\\framework\\ops.py\", line 3616, in create_op\n    op_def=op_def)\n  File \"D:\\ProgramData\\Anaconda3\\lib\\site-packages\\tensorflow\\python\\framework\\ops.py\", line 2005, in __init__\n    self._traceback = tf_stack.extract_stack()\n"
     ]
    }
   ],
   "source": [
    "a = tf.placeholder(tf.float32)\n",
    "b = tf.placeholder(tf.float32)\n",
    "adder_node = a + b\n",
    "\n",
    "see.run(adder_node)"
   ]
  },
  {
   "cell_type": "code",
   "execution_count": 9,
   "metadata": {},
   "outputs": [
    {
     "data": {
      "text/plain": [
       "7.5"
      ]
     },
     "execution_count": 9,
     "metadata": {},
     "output_type": "execute_result"
    }
   ],
   "source": [
    "see.run(adder_node,feed_dict={a:3,b:4.5})"
   ]
  },
  {
   "cell_type": "code",
   "execution_count": 10,
   "metadata": {},
   "outputs": [
    {
     "ename": "SyntaxError",
     "evalue": "invalid syntax (<ipython-input-10-ff9f3de52531>, line 1)",
     "output_type": "error",
     "traceback": [
      "\u001b[1;36m  File \u001b[1;32m\"<ipython-input-10-ff9f3de52531>\"\u001b[1;36m, line \u001b[1;32m1\u001b[0m\n\u001b[1;33m    see.run(adder_node,feed_dict={a:3,4,b:4.5})\u001b[0m\n\u001b[1;37m                                       ^\u001b[0m\n\u001b[1;31mSyntaxError\u001b[0m\u001b[1;31m:\u001b[0m invalid syntax\n"
     ]
    }
   ],
   "source": [
    "see.run(adder_node,feed_dict={a:3,4,b:4.5})"
   ]
  },
  {
   "cell_type": "code",
   "execution_count": 11,
   "metadata": {},
   "outputs": [
    {
     "data": {
      "text/plain": [
       "array([5.5, 7.5], dtype=float32)"
      ]
     },
     "execution_count": 11,
     "metadata": {},
     "output_type": "execute_result"
    }
   ],
   "source": [
    "see.run(adder_node,feed_dict={a:[1,3],b:4.5})"
   ]
  },
  {
   "cell_type": "code",
   "execution_count": 6,
   "metadata": {},
   "outputs": [
    {
     "name": "stdout",
     "output_type": "stream",
     "text": [
      "0 103.35814 [-0.87853134] [-0.28350976]\n",
      "20 33.42203 [1.2195159] [1.0413061]\n",
      "40 31.180649 [1.0510728] [1.6896356]\n",
      "60 29.224436 [0.8840446] [2.292842]\n",
      "80 27.516058 [0.7279117] [2.8565316]\n",
      "100 26.024115 [0.5820041] [3.3833046]\n",
      "120 24.721195 [0.44565198] [3.875579]\n",
      "140 23.583345 [0.3182296] [4.335614]\n",
      "160 22.58965 [0.19915207] [4.7655215]\n",
      "180 21.72185 [0.08787331] [5.1672735]\n",
      "200 20.963997 [-0.01611779] [5.542714]\n",
      "220 20.302158 [-0.1132981] [5.893566]\n",
      "240 19.724163 [-0.20411456] [6.221442]\n",
      "260 19.219397 [-0.2889833] [6.5278454]\n",
      "280 18.778582 [-0.36829388] [6.814182]\n",
      "300 18.39362 [-0.44241] [7.0817647]\n",
      "320 18.057423 [-0.51167256] [7.331825]\n",
      "340 17.76382 [-0.576399] [7.5655074]\n",
      "360 17.50742 [-0.63688654] [7.7838864]\n",
      "380 17.2835 [-0.6934124] [7.987963]\n",
      "400 17.087952 [-0.74623644] [8.178674]\n",
      "420 16.917173 [-0.7956014] [8.356897]\n",
      "440 16.768038 [-0.84173274] [8.523446]\n",
      "460 16.637793 [-0.88484275] [8.679087]\n",
      "480 16.524052 [-0.92512953] [8.824535]\n",
      "500 16.424717 [-0.9627783] [8.960459]\n",
      "520 16.337967 [-0.99796176] [9.087482]\n",
      "540 16.26221 [-1.0308405] [9.206185]\n",
      "560 16.196049 [-1.0615659] [9.317114]\n",
      "580 16.138271 [-1.0902797] [9.42078]\n",
      "600 16.087812 [-1.1171125] [9.517654]\n",
      "620 16.043743 [-1.1421884] [9.608187]\n",
      "640 16.005266 [-1.1656215] [9.692787]\n",
      "660 15.97166 [-1.1875199] [9.771848]\n",
      "680 15.942308 [-1.2079843] [9.845731]\n",
      "700 15.916681 [-1.2271086] [9.914776]\n",
      "720 15.894295 [-1.2449808] [9.9793]\n",
      "740 15.874745 [-1.2616819] [10.039596]\n",
      "760 15.857676 [-1.2772895] [10.095944]\n",
      "780 15.842764 [-1.2918752] [10.148603]\n",
      "800 15.829745 [-1.3055053] [10.197812]\n",
      "820 15.818379 [-1.3182425] [10.243797]\n",
      "840 15.808446 [-1.3301462] [10.286774]\n",
      "860 15.799774 [-1.34127] [10.326934]\n",
      "880 15.792201 [-1.3516655] [10.364465]\n",
      "900 15.785588 [-1.36138] [10.399537]\n",
      "920 15.779813 [-1.3704579] [10.432312]\n",
      "940 15.77477 [-1.3789417] [10.462941]\n",
      "960 15.770365 [-1.3868701] [10.491566]\n",
      "980 15.766516 [-1.3942794] [10.518315]\n",
      "1000 15.763158 [-1.401203] [10.543311]\n",
      "1020 15.760225 [-1.4076734] [10.566672]\n",
      "1040 15.757658 [-1.4137205] [10.588504]\n",
      "1060 15.755423 [-1.4193711] [10.608904]\n",
      "1080 15.753469 [-1.4246519] [10.62797]\n",
      "1100 15.751762 [-1.4295865] [10.645784]\n",
      "1120 15.750272 [-1.4341973] [10.662432]\n",
      "1140 15.748973 [-1.4385068] [10.67799]\n",
      "1160 15.747833 [-1.442534] [10.69253]\n",
      "1180 15.746841 [-1.4462976] [10.706118]\n",
      "1200 15.745975 [-1.4498147] [10.718816]\n",
      "1220 15.745216 [-1.4531016] [10.730681]\n",
      "1240 15.7445545 [-1.4561723] [10.741769]\n",
      "1260 15.7439785 [-1.4590428] [10.752131]\n",
      "1280 15.743475 [-1.4617249] [10.761815]\n",
      "1300 15.743034 [-1.4642316] [10.7708645]\n",
      "1320 15.742651 [-1.4665745] [10.779324]\n",
      "1340 15.742314 [-1.4687635] [10.787227]\n",
      "1360 15.742022 [-1.470809] [10.794611]\n",
      "1380 15.741768 [-1.4727209] [10.801514]\n",
      "1400 15.741542 [-1.4745075] [10.807963]\n",
      "1420 15.741345 [-1.4761766] [10.81399]\n",
      "1440 15.741176 [-1.4777374] [10.819626]\n",
      "1460 15.741028 [-1.4791954] [10.824889]\n",
      "1480 15.740896 [-1.4805579] [10.829808]\n",
      "1500 15.740784 [-1.4818316] [10.834406]\n",
      "1520 15.7406845 [-1.4830216] [10.838703]\n",
      "1540 15.740596 [-1.4841338] [10.842718]\n",
      "1560 15.740522 [-1.4851729] [10.846469]\n",
      "1580 15.740458 [-1.4861437] [10.849975]\n",
      "1600 15.740397 [-1.4870512] [10.8532505]\n",
      "1620 15.740349 [-1.4878994] [10.856313]\n",
      "1640 15.740303 [-1.4886917] [10.859174]\n",
      "1660 15.740265 [-1.4894325] [10.861848]\n",
      "1680 15.7402315 [-1.4901246] [10.8643465]\n",
      "1700 15.740201 [-1.4907714] [10.866682]\n",
      "1720 15.740176 [-1.491376] [10.868865]\n",
      "1740 15.740153 [-1.4919409] [10.870904]\n",
      "1760 15.740132 [-1.4924684] [10.872808]\n",
      "1780 15.740118 [-1.4929615] [10.874589]\n",
      "1800 15.740103 [-1.4934225] [10.876253]\n",
      "1820 15.7400875 [-1.4938531] [10.877808]\n",
      "1840 15.740079 [-1.4942558] [10.879262]\n",
      "1860 15.740068 [-1.4946324] [10.880621]\n",
      "1880 15.740061 [-1.4949839] [10.88189]\n",
      "1900 15.740053 [-1.4953123] [10.883076]\n",
      "1920 15.740046 [-1.4956193] [10.884184]\n",
      "1940 15.740038 [-1.4959062] [10.885221]\n",
      "1960 15.740034 [-1.4961743] [10.886188]\n",
      "1980 15.740031 [-1.4964247] [10.887092]\n",
      "2000 15.7400255 [-1.4966587] [10.887937]\n"
     ]
    }
   ],
   "source": [
    "import tensorflow as tf\n",
    "\n",
    "W = tf.Variable(tf.random_normal([1]), name='weight')\n",
    "b = tf.Variable(tf.random_normal([1]), name='bias')\n",
    "X = tf.placeholder(tf.float32, shape = [None])\n",
    "Y = tf.placeholder(tf.float32, shape = [None])\n",
    "\n",
    "hypothesis = X * W + b\n",
    "\n",
    "cost = tf.reduce_mean(tf.square(hypothesis - Y))\n",
    "\n",
    "optimizer = tf.train.GradientDescentOptimizer(learning_rate=0.01)\n",
    "train = optimizer.minimize(cost)\n",
    "\n",
    "sess = tf.Session()\n",
    "\n",
    "sess.run(tf.global_variables_initializer())\n",
    "\n",
    "for step in range(2001):\n",
    "    cost_val, W_val, b_val, _ = sess.run([cost,W,b,train],\n",
    "                                        feed_dict = {X:[1,2,3,4,5],Y:[15,2,4,5,6]})\n",
    "    \n",
    "    if step % 20 == 0:\n",
    "        print(step,cost_val,W_val,b_val)"
   ]
  },
  {
   "cell_type": "code",
   "execution_count": 8,
   "metadata": {},
   "outputs": [
    {
     "data": {
      "image/png": "[encoded data removed]",
      "text/plain": [
       "<Figure size 432x288 with 1 Axes>"
      ]
     },
     "metadata": {
      "needs_background": "light"
     },
     "output_type": "display_data"
    }
   ],
   "source": [
    "%matplotlib inline\n",
    "import matplotlib.pyplot as plt\n",
    "\n",
    "xs = [1, 2, 3, 4, 5]\n",
    "ys = [1, 2, 3, 4, 5]\n",
    "\n",
    "plt.plot(xs, ys)\n",
    "plt.show()"
   ]
  },
  {
   "cell_type": "markdown",
   "metadata": {},
   "source": []
  },
  {
   "cell_type": "code",
   "execution_count": 40,
   "metadata": {},
   "outputs": [
    {
     "name": "stdout",
     "output_type": "stream",
     "text": [
      "0 29.94043 [-0.7182314] [0.25206292]\n",
      "20 0.07327322 [0.81807697] [0.62991923]\n",
      "40 0.06345811 [0.83642215] [0.5904466]\n",
      "60 0.055418443 [0.847164] [0.5517859]\n",
      "80 0.048397362 [0.8571735] [0.5156491]\n",
      "100 0.042265747 [0.8665273] [0.4818788]\n",
      "120 0.036910992 [0.8752685] [0.45032015]\n",
      "140 0.032234676 [0.8834373] [0.4208283]\n",
      "160 0.028150728 [0.8910711] [0.39326793]\n",
      "180 0.024584277 [0.8982049] [0.36751252]\n",
      "200 0.021469643 [0.9048716] [0.34344384]\n",
      "220 0.018749584 [0.91110164] [0.32095137]\n",
      "240 0.016374132 [0.9169236] [0.299932]\n",
      "260 0.01429967 [0.9223644] [0.28028917]\n",
      "280 0.012487988 [0.9274488] [0.26193282]\n",
      "300 0.010905856 [0.9322002] [0.24477862]\n",
      "320 0.009524163 [0.9366405] [0.22874789]\n",
      "340 0.008317521 [0.94078994] [0.21376698]\n",
      "360 0.007263756 [0.9446677] [0.19976717]\n",
      "380 0.0063435053 [0.9482914] [0.18668425]\n",
      "400 0.005539823 [0.95167786] [0.17445818]\n",
      "420 0.004837973 [0.95484257] [0.16303277]\n",
      "440 0.0042250357 [0.9577999] [0.15235564]\n",
      "460 0.0036897536 [0.96056366] [0.14237776]\n",
      "480 0.0032222928 [0.9631463] [0.13305333]\n",
      "500 0.0028140494 [0.9655599] [0.12433956]\n",
      "520 0.0024575253 [0.96781546] [0.11619648]\n",
      "540 0.0021461844 [0.96992326] [0.10858671]\n",
      "560 0.0018742771 [0.971893] [0.1014753]\n",
      "580 0.0016368239 [0.9737337] [0.09482959]\n",
      "600 0.0014294412 [0.9754539] [0.08861911]\n",
      "620 0.0012483462 [0.97706145] [0.08281537]\n",
      "640 0.0010901885 [0.97856367] [0.07739174]\n",
      "660 0.0009520673 [0.97996765] [0.07232328]\n",
      "680 0.0008314474 [0.98127955] [0.06758673]\n",
      "700 0.00072610937 [0.9825056] [0.06316042]\n",
      "720 0.00063411926 [0.98365134] [0.05902399]\n",
      "740 0.00055377686 [0.984722] [0.05515846]\n",
      "760 0.0004836171 [0.9857226] [0.05154607]\n",
      "780 0.00042234984 [0.9866576] [0.04817025]\n",
      "800 0.00036884082 [0.9875315] [0.04501552]\n",
      "820 0.00032211054 [0.988348] [0.04206741]\n",
      "840 0.0002813023 [0.98911107] [0.0393124]\n",
      "860 0.0002456622 [0.9898242] [0.03673786]\n",
      "880 0.00021453881 [0.9904907] [0.03433187]\n",
      "900 0.0001873576 [0.9911134] [0.03208342]\n",
      "920 0.00016362281 [0.9916954] [0.02998224]\n",
      "940 0.00014289276 [0.9922393] [0.02801867]\n",
      "960 0.00012478967 [0.99274755] [0.02618371]\n",
      "980 0.000108978114 [0.99322253] [0.02446889]\n",
      "1000 9.517228e-05 [0.99366635] [0.02286641]\n",
      "1020 8.3115076e-05 [0.99408114] [0.02136889]\n",
      "1040 7.258366e-05 [0.99446875] [0.01996945]\n",
      "1060 6.3389096e-05 [0.99483097] [0.01866166]\n",
      "1080 5.5359025e-05 [0.9951696] [0.01743953]\n",
      "1100 4.8344766e-05 [0.99548596] [0.01629736]\n",
      "1120 4.2219013e-05 [0.99578154] [0.01522998]\n",
      "1140 3.687052e-05 [0.9960578] [0.01423255]\n",
      "1160 3.219928e-05 [0.996316] [0.01330043]\n",
      "1180 2.8119839e-05 [0.9965573] [0.01242936]\n",
      "1200 2.4556799e-05 [0.9967828] [0.01161532]\n",
      "1220 2.1445538e-05 [0.9969934] [0.01085462]\n",
      "1240 1.8728553e-05 [0.99719036] [0.01014374]\n",
      "1260 1.635607e-05 [0.99737436] [0.00947943]\n",
      "1280 1.4283951e-05 [0.9975463] [0.00885861]\n",
      "1300 1.2474431e-05 [0.997707] [0.00827846]\n",
      "1320 1.089369e-05 [0.99785715] [0.00773631]\n",
      "1340 9.513694e-06 [0.9979975] [0.00722966]\n",
      "1360 8.307839e-06 [0.99812865] [0.00675616]\n",
      "1380 7.255962e-06 [0.9982512] [0.0063137]\n",
      "1400 6.3359644e-06 [0.99836576] [0.0059002]\n",
      "1420 5.5337614e-06 [0.9984728] [0.00551376]\n",
      "1440 4.8325574e-06 [0.99857277] [0.00515265]\n",
      "1460 4.2202823e-06 [0.9986663] [0.00481519]\n",
      "1480 3.6854267e-06 [0.9987536] [0.00449983]\n",
      "1500 3.2187568e-06 [0.9988352] [0.00420516]\n",
      "1520 2.8111426e-06 [0.9989115] [0.00392978]\n",
      "1540 2.4546357e-06 [0.9989828] [0.00367242]\n",
      "1560 2.1440794e-06 [0.9990494] [0.00343193]\n",
      "1580 1.8722645e-06 [0.99911165] [0.00320717]\n",
      "1600 1.6349495e-06 [0.9991698] [0.00299716]\n",
      "1620 1.42788e-06 [0.9992242] [0.00280087]\n",
      "1640 1.2469334e-06 [0.99927497] [0.00261744]\n",
      "1660 1.0889934e-06 [0.9993225] [0.00244606]\n",
      "1680 9.510104e-07 [0.9993668] [0.00228589]\n",
      "1700 8.3049963e-07 [0.9994083] [0.0021362]\n",
      "1720 7.253432e-07 [0.99944705] [0.00199632]\n",
      "1740 6.3364445e-07 [0.9994832] [0.0018656]\n",
      "1760 5.5337705e-07 [0.9995171] [0.00174344]\n",
      "1780 4.8316167e-07 [0.9995487] [0.00162932]\n",
      "1800 4.2199366e-07 [0.9995782] [0.00152265]\n",
      "1820 3.6850696e-07 [0.9996059] [0.00142296]\n",
      "1840 3.218266e-07 [0.99963164] [0.00132979]\n",
      "1860 2.810837e-07 [0.9996558] [0.0012427]\n",
      "1880 2.454718e-07 [0.9996783] [0.00116133]\n",
      "1900 2.1435096e-07 [0.99969935] [0.0010853]\n",
      "1920 1.8721354e-07 [0.999719] [0.00101424]\n",
      "1940 1.6347538e-07 [0.99973744] [0.00094783]\n",
      "1960 1.4278928e-07 [0.9997546] [0.00088577]\n",
      "1980 1.247306e-07 [0.99977064] [0.00082779]\n",
      "2000 1.0898234e-07 [0.99978566] [0.0007736]\n"
     ]
    }
   ],
   "source": [
    "%matplotlib inline\n",
    "import matplotlib.pyplot as plt\n",
    "import tensorflow as tf\n",
    "\n",
    "\n",
    "\n",
    "W = tf.Variable(tf.random_normal([1]), name='weight')\n",
    "b = tf.Variable(tf.random_normal([1]), name='bias')\n",
    "X = tf.placeholder(tf.float32, shape = [None])\n",
    "Y = tf.placeholder(tf.float32, shape = [None])\n",
    "\n",
    "hypothesis = X * W + b\n",
    "\n",
    "cost = tf.reduce_mean(tf.square(hypothesis - Y))\n",
    "\n",
    "optimizer = tf.train.GradientDescentOptimizer(learning_rate=0.01)\n",
    "train = optimizer.minimize(cost)\n",
    "\n",
    "sess = tf.Session()\n",
    "\n",
    "\n",
    "sess.run(tf.global_variables_initializer())\n",
    "\n",
    "\n",
    "for step in range(2001):\n",
    "    cost_val, W_val, b_val, _ = sess.run([cost,W,b,train],\n",
    "                                         feed_dict = {X:[1,2,3,4,5],Y:[1,2,3,4,5]})\n",
    "    \n",
    "    if step % 20 == 0:\n",
    "        print(step,cost_val,W_val,b_val)\n",
    "        \n",
    "\n"
   ]
  },
  {
   "cell_type": "code",
   "execution_count": 46,
   "metadata": {},
   "outputs": [
    {
     "data": {
      "image/png": "[encoded data removed]",
      "text/plain": [
       "<Figure size 432x288 with 1 Axes>"
      ]
     },
     "metadata": {
      "needs_background": "light"
     },
     "output_type": "display_data"
    }
   ],
   "source": [
    "import matplotlib.pyplot as plt\n",
    "\n",
    "xs = [1, 2, 3, 4, 5]\n",
    "ys = []\n",
    "\n",
    "for x in xs:\n",
    "    ys.append([hypothesis])\n",
    "\n",
    "plt.plot(xs, ys, 'ro', label='red point')\n",
    "plt.xlim(0, 6)\n",
    "plt.ylim(0.1, 30)\n",
    "plt.yticks(range(0, 40))\n",
    "plt.xlabel(\"x\")\n",
    "plt.ylabel(\"y\")\n",
    "plt.legend(loc='lower right')\n",
    "plt.show() \n",
    "\n"
   ]
  },
  {
   "cell_type": "code",
   "execution_count": 164,
   "metadata": {
    "scrolled": true
   },
   "outputs": [
    {
     "name": "stdout",
     "output_type": "stream",
     "text": [
      "0 [4.673799] [1.5013963] 266.68573\n",
      "200 [3.8011954] [1.3956844] 0.08000358\n",
      "400 [3.8000395] [1.3998576] 0.07999993\n",
      "600 [3.8000011] [1.3999957] 0.08\n",
      "800 [3.8000011] [1.3999964] 0.07999997\n",
      "1000 [3.8000011] [1.3999964] 0.07999997\n",
      "1200 [3.8000011] [1.3999964] 0.07999997\n",
      "1400 [3.8000011] [1.3999964] 0.07999997\n",
      "1600 [3.8000011] [1.3999964] 0.07999997\n",
      "1800 [3.8000011] [1.3999964] 0.07999997\n"
     ]
    },
    {
     "name": "stderr",
     "output_type": "stream",
     "text": [
      "W0714 01:26:53.782674 11172 legend.py:1289] No handles with labels found to put in legend.\n"
     ]
    },
    {
     "name": "stdout",
     "output_type": "stream",
     "text": [
      "2000 [3.8000011] [1.3999964] 0.07999997\n"
     ]
    },
    {
     "data": {
      "image/png": "[encoded data removed]",
      "text/plain": [
       "<Figure size 216x504 with 1 Axes>"
      ]
     },
     "metadata": {
      "needs_background": "light"
     },
     "output_type": "display_data"
    }
   ],
   "source": [
    "import numpy as np\n",
    "import matplotlib.pyplot as plt\n",
    "import tensorflow as tf\n",
    "\n",
    "W = tf.Variable(tf.random_uniform([1], -1.0, 1.0))\n",
    "b = tf.Variable(tf.zeros([1]))\n",
    "X = tf.placeholder(tf.float32,shape=[None])\n",
    "Y = tf.placeholder(tf.float32,shape=[None])\n",
    "y = W * X + b\n",
    "\n",
    "loss = tf.reduce_mean(tf.square(y - Y))\n",
    "optimizer = tf.train.GradientDescentOptimizer(0.05)\n",
    "train = optimizer.minimize(loss)\n",
    "\n",
    "init = tf.global_variables_initializer()\n",
    "\n",
    "sess = tf.Session()\n",
    "sess.run(init)\n",
    "\n",
    "for step in range(2001):\n",
    "    loss_val, _ =  sess.run([loss,train],feed_dict={X:[1,2,3,4,5],Y:[5,9,13,17,20]})\n",
    "        \n",
    "    if step % 200 == 0:\n",
    "        print(step,sess.run(W),sess.run(b),loss_val)\n",
    "    \n",
    "    if step == 2000:\n",
    "        #Graphic display\n",
    "        plt.figure(figsize=(3,7))\n",
    "        plt.plot([1,2,3,4,5],[5,9,13,17,20],'ro')\n",
    "        plt.plot([1,6,9,12,15], sess.run(W) * [1,6,9,12,15] + sess.run(b))\n",
    "\n",
    "        plt.xlabel('x')\n",
    "        plt.ylabel('y')\n",
    "        plt.legend()\n",
    "        plt.show() \n",
    "\n",
    "\n",
    "        \n",
    "    \n",
    "\n",
    "     \n"
   ]
  },
  {
   "cell_type": "code",
   "execution_count": 89,
   "metadata": {},
   "outputs": [
    {
     "data": {
      "text/plain": [
       "(array([1, 2, 3, 4, 5]), array([1, 2, 3, 4, 5]))"
      ]
     },
     "execution_count": 89,
     "metadata": {},
     "output_type": "execute_result"
    }
   ],
   "source": [
    "x_data = np.array([1,2,3,4,5])\n",
    "y_data = np.array([1,2,3,4,5])\n",
    "\n",
    "x_data,y_data"
   ]
  },
  {
   "cell_type": "code",
   "execution_count": 189,
   "metadata": {
    "scrolled": true
   },
   "outputs": [
    {
     "name": "stdout",
     "output_type": "stream",
     "text": [
      "0 1467.9877 [124.81251  139.25238  142.69923  156.43997  102.609764]\n",
      "100 26.713104 [157.61395 180.21388 182.26186 199.58908 134.1805 ]\n",
      "200 21.799978 [156.88562 180.71555 182.04169 199.40652 134.85849]\n",
      "300 17.83981 [156.23312 181.16516 181.84471 199.24098 135.46802]\n",
      "400 14.64679 [155.64867 181.56815 181.66855 199.09073 136.01611]\n",
      "500 12.071547 [155.12524 181.92926 181.5111  198.95424 136.50908]\n",
      "600 9.993662 [154.65659 182.2528  181.37036 198.83006 136.95256]\n",
      "700 8.316218 [154.237   182.54266 181.24463 198.717   137.35164]\n",
      "800 6.9612913 [153.86151 182.8023  181.13242 198.61389 137.71088]\n",
      "900 5.866079 [153.52553 183.0348  181.03223 198.51973 138.03432]\n",
      "1000 4.979982 [153.22502 183.24304 180.94292 198.43367 138.3257 ]\n",
      "1100 4.2623587 [152.95628 183.42941 180.86333 198.35481 138.58824]\n",
      "1200 3.6804328 [152.71608 183.5962  180.79242 198.28246 138.8249 ]\n",
      "1300 3.2078407 [152.50146 183.74545 180.72934 198.21599 139.03836]\n",
      "1400 2.8233078 [152.30975 183.87894 180.67323 198.15475 139.23096]\n",
      "1500 2.5097756 [152.13869 183.99832 180.62347 198.09833 139.40489]\n",
      "1600 2.2534537 [151.98604 184.10501 180.57928 198.04613 139.562  ]\n",
      "1700 2.0432916 [151.84991 184.2003  180.54013 197.99776 139.704  ]\n",
      "1800 1.8703434 [151.72868 184.28548 180.50557 197.95293 139.8325 ]\n",
      "1900 1.7274224 [151.62071 184.36143 180.47498 197.91113 139.94879]\n",
      "2000 1.6087574 [151.52472 184.42923 180.44806 197.87222 140.0542 ]\n"
     ]
    },
    {
     "data": {
      "text/plain": [
       "1.6087574"
      ]
     },
     "execution_count": 189,
     "metadata": {},
     "output_type": "execute_result"
    }
   ],
   "source": [
    "import tensorflow as tf\n",
    "\n",
    "\n",
    "x1_data = [73.,93.,89.,96.,73.]\n",
    "x2_data = [80.,88.,91.,98.,66.]\n",
    "x3_data = [75.,93.,90.,100.,70.]\n",
    "\n",
    "y_data = [152.,185.,180.,196.,142.]\n",
    "\n",
    "x1 = tf.placeholder(tf.float32)\n",
    "x2 = tf.placeholder(tf.float32)\n",
    "x3 = tf.placeholder(tf.float32)\n",
    "\n",
    "Y = tf.placeholder(tf.float32)\n",
    "\n",
    "w1 = tf.Variable(tf.random_normal([1]), name='weight1')\n",
    "w2 = tf.Variable(tf.random_normal([1]), name='weight2')\n",
    "w3 = tf.Variable(tf.random_normal([1]), name='weight3')\n",
    "b = tf.Variable(tf.random_normal([1]), name='bias')\n",
    "\n",
    "\n",
    "H = x1*w1 + x2*w2 + x3*w3 + b\n",
    "\n",
    "cost = tf.reduce_mean(tf.square(H-Y))\n",
    "\n",
    "optimizer = tf.train.GradientDescentOptimizer(learning_rate=0.00004)\n",
    "\n",
    "train = optimizer.minimize(cost)\n",
    "\n",
    "sess = tf.Session()\n",
    "\n",
    "sess.run(tf.global_variables_initializer())\n",
    "\n",
    "for step in range(2001):\n",
    "    cost_val, H_val, _ = sess.run([cost,H,train], feed_dict ={x1:x1_data,x2:x2_data,x3:x3_data,Y:y_data})\n",
    "    \n",
    "    if step%100 == 0:\n",
    "        print(step,cost_val, H_val)\n",
    "        \n",
    "plt.plot()"
   ]
  },
  {
   "cell_type": "code",
   "execution_count": 180,
   "metadata": {},
   "outputs": [
    {
     "name": "stdout",
     "output_type": "stream",
     "text": [
      "0 1.8222069 [153.1748  183.46265 181.17432 196.75714 140.152  ]\n",
      "100 1.7369938 [153.12645 183.4959  181.15962 196.7456  140.19637]\n",
      "200 1.6562485 [153.07939 183.52824 181.1453  196.73438 140.23958]\n",
      "300 1.5797675 [153.03358 183.55972 181.13138 196.72342 140.28163]\n",
      "400 1.5072916 [152.98903 183.59036 181.11783 196.71274 140.3226 ]\n",
      "500 1.4386537 [152.94568 183.62018 181.10468 196.70232 140.36247]\n",
      "600 1.3736465 [152.9035  183.64919 181.09186 196.6922  140.40128]\n",
      "700 1.3120263 [152.86244 183.67741 181.07939 196.68228 140.43907]\n",
      "800 1.2536614 [152.82251 183.7049  181.06726 196.67264 140.47586]\n",
      "900 1.1983769 [152.78365 183.73161 181.05545 196.66324 140.51167]\n",
      "1000 1.1459849 [152.74582 183.75763 181.04398 196.65407 140.54655]\n",
      "1100 1.0963666 [152.70905 183.78294 181.0328  196.64514 140.5805 ]\n",
      "1200 1.0493408 [152.67322 183.80757 181.02194 196.6364  140.61356]\n",
      "1300 1.0047996 [152.6384  183.83156 181.0114  196.62791 140.64575]\n",
      "1400 0.9625858 [152.60448 183.85487 181.0011  196.6196  140.67708]\n",
      "1500 0.9226133 [152.57152 183.87756 180.99112 196.61154 140.70761]\n",
      "1600 0.8847391 [152.53943 183.89963 180.98138 196.60364 140.7373 ]\n",
      "1700 0.8488415 [152.50821 183.92113 180.97192 196.59595 140.76624]\n",
      "1800 0.8148364 [152.47783 183.94205 180.96272 196.58844 140.79439]\n",
      "1900 0.78262395 [152.44827 183.96239 180.95378 196.58112 140.82181]\n",
      "2000 0.75210285 [152.41951 183.98218 180.94507 196.57397 140.8485 ]\n"
     ]
    }
   ],
   "source": [
    "for step in range(2001):\n",
    "    cost_val, H_val, _ = sess.run([cost,H,train], feed_dict ={x1:x1_data,x2:x2_data,x3:x3_data,Y:y_data})\n",
    "    \n",
    "    if step%100 == 0:\n",
    "        print(step,cost_val, H_val)"
   ]
  },
  {
   "cell_type": "code",
   "execution_count": 181,
   "metadata": {},
   "outputs": [
    {
     "name": "stdout",
     "output_type": "stream",
     "text": [
      "0 0.7517992 [152.41922 183.98239 180.94498 196.57391 140.84875]\n",
      "100 0.7228996 [152.39127 184.00163 180.93652 196.56694 140.87476]\n",
      "200 0.695498 [152.36406 184.0204  180.9283  196.56017 140.90009]\n",
      "300 0.66956645 [152.33757 184.0386  180.92029 196.55353 140.9247 ]\n",
      "400 0.64496523 [152.31183 184.05637 180.91249 196.54706 140.9487 ]\n",
      "500 0.62166053 [152.28676 184.07364 180.90492 196.54073 140.97206]\n",
      "600 0.5995923 [152.26237 184.09042 180.89755 196.53459 140.99481]\n",
      "700 0.5786691 [152.23868 184.10677 180.89038 196.52856 141.01697]\n",
      "800 0.55883884 [152.21559 184.12268 180.88342 196.5227  141.03856]\n",
      "900 0.54006773 [152.19313 184.13814 180.87665 196.51697 141.05954]\n",
      "1000 0.52226865 [152.17131 184.1532  180.87006 196.5114  141.08   ]\n",
      "1100 0.50539595 [152.15005 184.16785 180.86365 196.50594 141.09993]\n",
      "1200 0.48941213 [152.12938 184.1821  180.85742 196.5006  141.11932]\n",
      "1300 0.47426596 [152.10927 184.19597 180.85138 196.4954  141.13823]\n",
      "1400 0.45990133 [152.0897  184.20946 180.84547 196.49031 141.15663]\n",
      "1500 0.44629365 [152.07068 184.2226  180.83974 196.48537 141.17455]\n",
      "1600 0.4334084 [152.05219 184.23535 180.83418 196.48053 141.192  ]\n",
      "1700 0.42117706 [152.03416 184.24779 180.82875 196.4758  141.209  ]\n",
      "1800 0.40959677 [152.01665 184.25989 180.8235  196.47119 141.22556]\n",
      "1900 0.3986159 [151.9996  184.27165 180.81837 196.46667 141.24167]\n",
      "2000 0.38820443 [151.98303 184.2831  180.81339 196.46227 141.25737]\n"
     ]
    }
   ],
   "source": [
    "for step in range(2001):\n",
    "    cost_val, H_val, _ = sess.run([cost,H,train], feed_dict ={x1:x1_data,x2:x2_data,x3:x3_data,Y:y_data})\n",
    "    \n",
    "    if step%100 == 0:\n",
    "        print(step,cost_val, H_val)"
   ]
  },
  {
   "cell_type": "code",
   "execution_count": 182,
   "metadata": {},
   "outputs": [
    {
     "name": "stdout",
     "output_type": "stream",
     "text": [
      "0 0.38811344 [151.98286 184.28319 180.81334 196.46223 141.25752]\n",
      "100 0.37825218 [151.96674 184.29433 180.8085  196.45793 141.27281]\n",
      "200 0.36891082 [151.95108 184.30518 180.80383 196.45375 141.28772]\n",
      "300 0.3600461 [151.9358  184.31569 180.79921 196.44963 141.3022 ]\n",
      "400 0.3516472 [151.92097 184.32594 180.79477 196.44562 141.31633]\n",
      "500 0.3436815 [151.90656 184.33594 180.79045 196.44171 141.3301 ]\n",
      "600 0.33614317 [151.89252 184.34564 180.78627 196.4379  141.34349]\n",
      "700 0.32898438 [151.87888 184.35506 180.78218 196.43413 141.35655]\n",
      "800 0.32219732 [151.8656  184.36424 180.7782  196.43048 141.36926]\n",
      "900 0.31576642 [151.85269 184.37317 180.77435 196.4269  141.38165]\n",
      "1000 0.30967313 [151.84012 184.38185 180.7706  196.42342 141.3937 ]\n",
      "1100 0.30387706 [151.82791 184.3903  180.76694 196.41998 141.40547]\n",
      "1200 0.29840046 [151.81604 184.39853 180.76343 196.41666 141.41693]\n",
      "1300 0.29318613 [151.80449 184.40654 180.75996 196.41338 141.42809]\n",
      "1400 0.28825742 [151.79324 184.4143  180.7566  196.41019 141.43893]\n",
      "1500 0.28357974 [151.78233 184.42189 180.75339 196.40707 141.44954]\n",
      "1600 0.2791425 [151.7717  184.42923 180.75021 196.40402 141.45985]\n",
      "1700 0.27491865 [151.76137 184.43642 180.74715 196.40102 141.46992]\n",
      "1800 0.27092713 [151.75133 184.44337 180.74417 196.3981  141.47972]\n",
      "1900 0.26713553 [151.74155 184.45015 180.74126 196.39523 141.48924]\n",
      "2000 0.26354083 [151.73204 184.45674 180.73845 196.39243 141.49854]\n"
     ]
    }
   ],
   "source": [
    "for step in range(2001):\n",
    "    cost_val, H_val, _ = sess.run([cost,H,train], feed_dict ={x1:x1_data,x2:x2_data,x3:x3_data,Y:y_data})\n",
    "    \n",
    "    if step%100 == 0:\n",
    "        print(step,cost_val, H_val)"
   ]
  },
  {
   "cell_type": "code",
   "execution_count": 183,
   "metadata": {},
   "outputs": [
    {
     "name": "stdout",
     "output_type": "stream",
     "text": [
      "0 0.26350164 [151.73195 184.45679 180.7384  196.39238 141.49863]\n",
      "100 0.26009315 [151.72272 184.46323 180.73569 196.38968 141.50769]\n",
      "200 0.25685892 [151.71373 184.46945 180.73303 196.387   141.51651]\n",
      "300 0.2537838 [151.705   184.47551 180.73045 196.38435 141.52512]\n",
      "400 0.25086302 [151.69652 184.48141 180.72794 196.38179 141.5335 ]\n",
      "500 0.24809285 [151.68828 184.48717 180.72552 196.37929 141.54169]\n",
      "600 0.24546973 [151.68024 184.49272 180.72314 196.37682 141.54962]\n",
      "700 0.24297953 [151.67242 184.49815 180.72086 196.37442 141.55737]\n",
      "800 0.24060981 [151.66486 184.50343 180.71864 196.37206 141.56494]\n",
      "900 0.23835126 [151.65747 184.50856 180.71645 196.36974 141.57231]\n",
      "1000 0.23621428 [151.6503  184.51353 180.71434 196.36746 141.5795 ]\n",
      "1100 0.2341942 [151.64333 184.51837 180.71231 196.36523 141.58647]\n",
      "1200 0.23225741 [151.63655 184.5231  180.71031 196.36307 141.5933 ]\n",
      "1300 0.2304213 [151.62997 184.52771 180.70839 196.36095 141.59996]\n",
      "1400 0.22867814 [151.62358 184.53218 180.70653 196.35886 141.60645]\n",
      "1500 0.22702226 [151.61736 184.53651 180.70471 196.3568  141.61276]\n",
      "1600 0.22544949 [151.6113  184.54073 180.70294 196.3548  141.61893]\n",
      "1700 0.22395292 [151.60542 184.54485 180.70125 196.35283 141.62494]\n",
      "1800 0.22252584 [151.59972 184.54881 180.69957 196.35089 141.6308 ]\n",
      "1900 0.22117803 [151.59416 184.55269 180.69797 196.34901 141.6365 ]\n",
      "2000 0.21988718 [151.58878 184.55647 180.69641 196.34715 141.64207]\n",
      "2100 0.2186629 [151.58354 184.56013 180.6949  196.34534 141.6475 ]\n",
      "2200 0.21749878 [151.57843 184.56369 180.69342 196.34354 141.65279]\n",
      "2300 0.21639052 [151.57349 184.56715 180.692   196.3418  141.65796]\n",
      "2400 0.21533167 [151.5687  184.57054 180.69063 196.34009 141.663  ]\n",
      "2500 0.21432953 [151.56401 184.5738  180.68929 196.3384  141.6679 ]\n",
      "2600 0.21336707 [151.55946 184.577   180.68797 196.33673 141.67268]\n",
      "2700 0.21245757 [151.55505 184.5801  180.68672 196.33511 141.67735]\n",
      "2800 0.21158461 [151.55078 184.5831  180.6855  196.33351 141.68192]\n",
      "2900 0.21074934 [151.54662 184.58603 180.6843  196.33194 141.68636]\n",
      "3000 0.20996217 [151.54257 184.58888 180.68317 196.3304  141.69069]\n",
      "3100 0.20920777 [151.53865 184.59163 180.68204 196.3289  141.69492]\n",
      "3200 0.20848644 [151.53484 184.59431 180.68095 196.32741 141.69904]\n",
      "3300 0.20779736 [151.53113 184.59692 180.6799  196.32594 141.70306]\n",
      "3400 0.20713477 [151.52756 184.59949 180.6789  196.32452 141.707  ]\n",
      "3500 0.20651583 [151.52405 184.60191 180.6779  196.3231  141.71082]\n",
      "3600 0.20592058 [151.52065 184.60431 180.67696 196.32172 141.71455]\n",
      "3700 0.20534141 [151.51736 184.60664 180.67603 196.32034 141.7182 ]\n",
      "3800 0.20480236 [151.51416 184.60892 180.67516 196.31902 141.72176]\n",
      "3900 0.20427318 [151.51106 184.6111  180.67427 196.31769 141.72523]\n",
      "4000 0.20377791 [151.50804 184.61324 180.67345 196.31639 141.72862]\n",
      "4100 0.20329404 [151.50513 184.61533 180.67264 196.31512 141.73195]\n",
      "4200 0.20283552 [151.5023  184.61734 180.67186 196.31387 141.73517]\n",
      "4300 0.20239806 [151.49954 184.61931 180.67111 196.31264 141.73833]\n",
      "4400 0.2019737 [151.49686 184.62122 180.67036 196.31142 141.74141]\n",
      "4500 0.20156915 [151.49426 184.62305 180.66965 196.31021 141.74442]\n",
      "4600 0.20118904 [151.49173 184.62483 180.66896 196.30905 141.74734]\n",
      "4700 0.20081449 [151.48929 184.62659 180.66829 196.30789 141.7502 ]\n",
      "4800 0.20045602 [151.48694 184.6283  180.66766 196.30676 141.753  ]\n",
      "4900 0.20011446 [151.48463 184.62991 180.66704 196.30562 141.75574]\n",
      "5000 0.19978394 [151.4824  184.63152 180.66644 196.3045  141.7584 ]\n",
      "5100 0.19946568 [151.48024 184.63307 180.66586 196.3034  141.76102]\n",
      "5200 0.19915608 [151.47815 184.6346  180.6653  196.30235 141.76358]\n",
      "5300 0.19887179 [151.47612 184.63603 180.66478 196.30128 141.76605]\n",
      "5400 0.19858721 [151.47414 184.63747 180.66425 196.30025 141.76848]\n",
      "5500 0.19831292 [151.47223 184.63884 180.66374 196.29921 141.77086]\n",
      "5600 0.1980487 [151.47038 184.64017 180.66325 196.29819 141.77318]\n",
      "5700 0.19779702 [151.46858 184.64146 180.66278 196.2972  141.77544]\n",
      "5800 0.197552 [151.46684 184.64273 180.66234 196.2962  141.77766]\n",
      "5900 0.19731732 [151.46515 184.64394 180.6619  196.29523 141.77983]\n",
      "6000 0.19709098 [151.46352 184.64513 180.66148 196.29427 141.78194]\n",
      "6100 0.19686952 [151.46193 184.64627 180.66107 196.29332 141.78401]\n",
      "6200 0.19665357 [151.46042 184.64742 180.6607  196.2924  141.78606]\n",
      "6300 0.19644126 [151.45892 184.6485  180.66031 196.29146 141.78802]\n",
      "6400 0.1962454 [151.45749 184.64954 180.65996 196.29056 141.78996]\n",
      "6500 0.19605176 [151.45612 184.65057 180.65964 196.28967 141.79187]\n",
      "6600 0.1958661 [151.45474 184.65155 180.65929 196.28877 141.7937 ]\n",
      "6700 0.19567978 [151.45345 184.65251 180.65897 196.28789 141.79552]\n",
      "6800 0.19550414 [151.45216 184.65343 180.65865 196.287   141.79727]\n",
      "6900 0.19533458 [151.45096 184.65434 180.65837 196.28618 141.79901]\n",
      "7000 0.19516414 [151.44975 184.65521 180.65807 196.28531 141.8007 ]\n",
      "7100 0.19500095 [151.44864 184.65605 180.6578  196.28448 141.80235]\n",
      "7200 0.19484359 [151.44753 184.6569  180.65756 196.28368 141.804  ]\n",
      "7300 0.19468313 [151.44646 184.65768 180.65729 196.28284 141.80557]\n",
      "7400 0.19453655 [151.44543 184.65848 180.65707 196.28206 141.80713]\n",
      "7500 0.19438274 [151.44443 184.65923 180.65683 196.28123 141.80867]\n",
      "7600 0.19424027 [151.44348 184.65994 180.65662 196.28046 141.81013]\n",
      "7700 0.19409987 [151.44254 184.66064 180.6564  196.27966 141.8116 ]\n",
      "7800 0.19396588 [151.44164 184.66132 180.6562  196.2789  141.81302]\n",
      "7900 0.19382815 [151.44077 184.66197 180.656   196.27812 141.81442]\n",
      "8000 0.19369817 [151.43994 184.66263 180.65585 196.27737 141.81581]\n",
      "8100 0.19357492 [151.43912 184.66322 180.65567 196.27664 141.81715]\n",
      "8200 0.1934467 [151.43834 184.66382 180.6555  196.27588 141.81845]\n",
      "8300 0.19332308 [151.4376  184.66441 180.65536 196.27518 141.81976]\n",
      "8400 0.19320473 [151.43687 184.66498 180.65523 196.27444 141.82103]\n",
      "8500 0.19308843 [151.43617 184.6655  180.65509 196.2737  141.82225]\n",
      "8600 0.19297007 [151.43552 184.66605 180.65497 196.27303 141.82349]\n",
      "8700 0.19285767 [151.43484 184.66655 180.65483 196.27231 141.82466]\n",
      "8800 0.19274507 [151.43422 184.66702 180.65471 196.27159 141.82582]\n",
      "8900 0.19264314 [151.43361 184.66748 180.6546  196.27092 141.82695]\n",
      "9000 0.19252513 [151.43306 184.66798 180.65451 196.27025 141.8281 ]\n",
      "9100 0.19242206 [151.4325  184.66841 180.65442 196.26956 141.82921]\n",
      "9200 0.19231772 [151.43196 184.66884 180.65433 196.26889 141.83028]\n",
      "9300 0.19221593 [151.43146 184.66925 180.65425 196.26823 141.83133]\n",
      "9400 0.19211797 [151.43095 184.66965 180.65417 196.26758 141.83237]\n",
      "9500 0.19201836 [151.4305  184.67004 180.65413 196.26692 141.8334 ]\n",
      "9600 0.1919159 [151.43004 184.67041 180.65405 196.26625 141.83441]\n",
      "9700 0.19181986 [151.42958 184.67075 180.65396 196.2656  141.83536]\n",
      "9800 0.19172184 [151.4292  184.67111 180.65393 196.26498 141.83633]\n",
      "9900 0.19162735 [151.4288  184.67145 180.65388 196.26436 141.8373 ]\n",
      "10000 0.19153687 [151.4284  184.67177 180.65384 196.26372 141.83821]\n",
      "10100 0.1914455 [151.42802 184.67207 180.6538  196.26308 141.83913]\n",
      "10200 0.19135699 [151.42769 184.67236 180.65376 196.26248 141.84001]\n",
      "10300 0.19126791 [151.42737 184.67265 180.65375 196.26187 141.8409 ]\n",
      "10400 0.1911844 [151.42706 184.67293 180.65375 196.26128 141.84177]\n",
      "10500 0.19108723 [151.42676 184.6732  180.6537  196.26065 141.84262]\n",
      "10600 0.19100116 [151.42647 184.67346 180.65369 196.26006 141.84346]\n",
      "10700 0.19091241 [151.4262  184.67369 180.65366 196.25945 141.84427]\n",
      "10800 0.19082983 [151.42595 184.67392 180.65366 196.25888 141.84508]\n",
      "10900 0.19074903 [151.4257  184.67416 180.65367 196.2583  141.84587]\n",
      "11000 0.1906661 [151.42548 184.67438 180.65367 196.25772 141.84665]\n",
      "11100 0.19058663 [151.42525 184.67459 180.65369 196.25714 141.84744]\n",
      "11200 0.19050328 [151.42503 184.67479 180.65369 196.25655 141.84819]\n",
      "11300 0.1904249 [151.42485 184.67497 180.6537  196.256   141.84892]\n",
      "11400 0.19034268 [151.42467 184.67514 180.6537  196.25542 141.84964]\n",
      "11500 0.1902624 [151.4245  184.67532 180.65372 196.25487 141.85036]\n",
      "11600 0.19018364 [151.42435 184.6755  180.65375 196.25433 141.85109]\n",
      "11700 0.19010589 [151.4242  184.67567 180.65378 196.25377 141.85179]\n",
      "11800 0.190034 [151.42404 184.67581 180.65381 196.25322 141.8525 ]\n",
      "11900 0.1899508 [151.42392 184.67598 180.65384 196.25266 141.85318]\n",
      "12000 0.18987873 [151.4238  184.6761  180.65387 196.25212 141.85384]\n",
      "12100 0.18980566 [151.42369 184.67621 180.6539  196.25157 141.85446]\n"
     ]
    },
    {
     "name": "stdout",
     "output_type": "stream",
     "text": [
      "12200 0.18972655 [151.42361 184.67635 180.65395 196.25104 141.8551 ]\n",
      "12300 0.18965472 [151.42352 184.67647 180.65399 196.25052 141.85574]\n",
      "12400 0.18958052 [151.42343 184.67657 180.65402 196.24998 141.85637]\n",
      "12500 0.1895047 [151.42337 184.6767  180.65408 196.24945 141.85701]\n",
      "12600 0.18943574 [151.42328 184.67683 180.65414 196.24893 141.85765]\n",
      "12700 0.18936338 [151.4232  184.6769  180.65416 196.2484  141.85823]\n",
      "12800 0.18929489 [151.42317 184.67699 180.65424 196.2479  141.85883]\n",
      "12900 0.18922201 [151.42313 184.67706 180.65428 196.24736 141.8594 ]\n",
      "13000 0.18914971 [151.42311 184.67715 180.65434 196.24687 141.85997]\n",
      "13100 0.18908541 [151.4231  184.6772  180.65442 196.24635 141.86052]\n",
      "13200 0.18901321 [151.42308 184.67728 180.65448 196.24585 141.8611 ]\n",
      "13300 0.18894407 [151.42308 184.67735 180.65456 196.24536 141.86166]\n",
      "13400 0.18887599 [151.42307 184.67741 180.65462 196.24486 141.86221]\n",
      "13500 0.1888046 [151.42307 184.67747 180.65468 196.24435 141.86276]\n",
      "13600 0.18873979 [151.42305 184.67752 180.65474 196.24385 141.8633 ]\n",
      "13700 0.1886722 [151.42305 184.67758 180.65482 196.24333 141.86383]\n",
      "13800 0.18860903 [151.42307 184.67761 180.65489 196.24284 141.86435]\n",
      "13900 0.18854488 [151.42308 184.67763 180.65495 196.24236 141.86485]\n",
      "14000 0.18847075 [151.42314 184.67769 180.65503 196.24188 141.86534]\n",
      "14100 0.18840542 [151.42319 184.6777  180.6551  196.24141 141.86584]\n",
      "14200 0.18834665 [151.42322 184.67773 180.6552  196.24094 141.86633]\n",
      "14300 0.18828106 [151.42326 184.67775 180.65527 196.24045 141.86682]\n",
      "14400 0.18822257 [151.42331 184.67776 180.65536 196.23999 141.86731]\n",
      "14500 0.18815188 [151.42337 184.6778  180.65544 196.2395  141.8678 ]\n",
      "14600 0.18808988 [151.4234  184.67783 180.65552 196.23903 141.86829]\n",
      "14700 0.18802932 [151.42345 184.67786 180.65561 196.23856 141.86876]\n",
      "14800 0.18796262 [151.42351 184.67787 180.65569 196.23808 141.86925]\n",
      "14900 0.18789817 [151.42358 184.67789 180.65578 196.23761 141.8697 ]\n",
      "15000 0.18784136 [151.42365 184.67787 180.65587 196.23714 141.87016]\n",
      "15100 0.18777867 [151.42374 184.67784 180.65594 196.23668 141.87059]\n",
      "15200 0.18771894 [151.42381 184.67784 180.65604 196.23622 141.87103]\n",
      "15300 0.18765168 [151.42392 184.67784 180.65613 196.23575 141.87146]\n",
      "15400 0.18759713 [151.42401 184.67784 180.65623 196.23534 141.8719 ]\n",
      "15500 0.18753168 [151.42412 184.67781 180.65631 196.23486 141.8723 ]\n",
      "15600 0.18747246 [151.42422 184.67781 180.65642 196.23444 141.87274]\n",
      "15700 0.18741629 [151.42432 184.67778 180.65651 196.23398 141.87314]\n",
      "15800 0.18736012 [151.42442 184.67776 180.65662 196.23355 141.87357]\n",
      "15900 0.18729725 [151.42453 184.67775 180.65671 196.2331  141.874  ]\n",
      "16000 0.18723401 [151.42464 184.67775 180.6568  196.23265 141.87442]\n",
      "16100 0.18717925 [151.42471 184.67773 180.65689 196.2322  141.87483]\n",
      "16200 0.1871188 [151.42484 184.67772 180.657   196.23175 141.87526]\n",
      "16300 0.18706073 [151.42494 184.67769 180.65709 196.23131 141.87567]\n",
      "16400 0.18699862 [151.42506 184.67766 180.65718 196.23085 141.87607]\n",
      "16500 0.18694702 [151.42517 184.67763 180.65729 196.23042 141.87646]\n",
      "16600 0.18688987 [151.42531 184.67758 180.6574  196.22998 141.87685]\n",
      "16700 0.18683854 [151.42543 184.67754 180.6575  196.22955 141.87721]\n",
      "16800 0.18677555 [151.42558 184.67749 180.6576  196.22913 141.8776 ]\n",
      "16900 0.18671907 [151.4257  184.67744 180.65768 196.22868 141.87796]\n",
      "17000 0.18666604 [151.42584 184.6774  180.65779 196.22827 141.87833]\n",
      "17100 0.18661037 [151.426   184.67735 180.6579  196.22786 141.87868]\n",
      "17200 0.18655679 [151.42613 184.67729 180.658   196.22742 141.87904]\n",
      "17300 0.18649869 [151.42628 184.67726 180.65811 196.227   141.87941]\n",
      "17400 0.18644693 [151.42642 184.67722 180.65822 196.2266  141.87976]\n",
      "17500 0.18638705 [151.42657 184.67717 180.65831 196.22618 141.88013]\n",
      "17600 0.18633418 [151.42671 184.67712 180.65842 196.22575 141.88048]\n",
      "17700 0.18628809 [151.42685 184.67706 180.65854 196.22534 141.88084]\n",
      "17800 0.18622723 [151.427   184.67702 180.65863 196.22491 141.88121]\n",
      "17900 0.18617396 [151.42715 184.67699 180.65875 196.2245  141.88158]\n",
      "18000 0.18612497 [151.42729 184.67693 180.65886 196.22409 141.88193]\n",
      "18100 0.18607146 [151.42743 184.6769  180.65897 196.22368 141.8823 ]\n",
      "18200 0.1860125 [151.42758 184.67685 180.65906 196.22327 141.88266]\n",
      "18300 0.18596195 [151.42772 184.6768  180.65916 196.22285 141.88301]\n",
      "18400 0.18591014 [151.42786 184.67676 180.65927 196.22243 141.88336]\n",
      "18500 0.18586038 [151.42801 184.6767  180.65938 196.22203 141.8837 ]\n",
      "18600 0.18580869 [151.42816 184.67664 180.65948 196.22162 141.88405]\n",
      "18700 0.18575093 [151.42833 184.67656 180.65958 196.22119 141.88438]\n",
      "18800 0.18570146 [151.4285  184.6765  180.65968 196.22083 141.8847 ]\n",
      "18900 0.18565534 [151.42868 184.67645 180.65984 196.22043 141.88504]\n",
      "19000 0.18560286 [151.42883 184.67636 180.65991 196.22002 141.88533]\n",
      "19100 0.1855496 [151.42902 184.67628 180.66002 196.2196  141.88562]\n",
      "19200 0.18550597 [151.42918 184.67621 180.66014 196.21922 141.88593]\n",
      "19300 0.18545611 [151.42938 184.67612 180.66026 196.21883 141.88623]\n",
      "19400 0.18540725 [151.42957 184.67606 180.66039 196.21844 141.88654]\n",
      "19500 0.1853584 [151.42975 184.67596 180.66049 196.21806 141.88684]\n",
      "19600 0.1853036 [151.42995 184.67589 180.6606  196.21767 141.88713]\n",
      "19700 0.18526188 [151.43011 184.67581 180.66072 196.2173  141.88744]\n",
      "19800 0.18521142 [151.4303  184.67574 180.66083 196.21692 141.88774]\n",
      "19900 0.18515976 [151.43048 184.67566 180.66093 196.21652 141.88805]\n",
      "20000 0.18511021 [151.43066 184.67558 180.66104 196.21614 141.88834]\n"
     ]
    }
   ],
   "source": [
    "for step in range(20001):\n",
    "    cost_val, H_val, _ = sess.run([cost,H,train], feed_dict ={x1:x1_data,x2:x2_data,x3:x3_data,Y:y_data})\n",
    "    \n",
    "    if step%100 == 0:\n",
    "        print(step,cost_val, H_val)"
   ]
  },
  {
   "cell_type": "code",
   "execution_count": null,
   "metadata": {},
   "outputs": [],
   "source": []
  }
 ],
 "metadata": {
  "kernelspec": {
   "display_name": "Python 3",
   "language": "python",
   "name": "python3"
  },
  "language_info": {
   "codemirror_mode": {
    "name": "ipython",
    "version": 3
   },
   "file_extension": ".py",
   "mimetype": "text/x-python",
   "name": "python",
   "nbconvert_exporter": "python",
   "pygments_lexer": "ipython3",
   "version": "3.6.8"
  }
 },
 "nbformat": 4,
 "nbformat_minor": 2
}
